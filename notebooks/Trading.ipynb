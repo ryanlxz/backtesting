{
 "cells": [
  {
   "cell_type": "markdown",
   "metadata": {},
   "source": [
    "# Backtesting trading strategies \n"
   ]
  },
  {
   "cell_type": "code",
   "execution_count": 1,
   "metadata": {},
   "outputs": [],
   "source": [
    "import numpy as np\n",
    "import pandas as pd\n",
    "import math\n",
    "from datetime import timedelta \n",
    "import yfinance as yf\n",
    "import talib\n",
    "import plotly.graph_objects as go\n",
    "from mplfinance.original_flavor import candlestick_ohlc\n",
    "import matplotlib.dates as mpl_dates\n",
    "import matplotlib.dates as mdates\n",
    "import matplotlib.pyplot as plt \n",
    "%matplotlib inline "
   ]
  },
  {
   "cell_type": "code",
   "execution_count": null,
   "metadata": {},
   "outputs": [],
   "source": [
    "#Moving average\n",
    "tesla_price = yf.download(\"TSLA\", start=\"2020-01-02\", end=\"2020-07-02\", interval=\"1d\")\n",
    "tesla_price = tesla_price.reset_index() \n",
    "#tesla_price['Date'] = tesla_price['Date'].apply(mpl_dates.date2num)\n",
    "tesla_price.loc[:, 'ma20'] = tesla_price.Close.rolling(20).mean()"
   ]
  },
  {
   "cell_type": "code",
   "execution_count": null,
   "metadata": {},
   "outputs": [],
   "source": [
    "tesla_price.loc[:, \"rsi\"] = talib.RSI(tesla_price.Close, 14)"
   ]
  },
  {
   "cell_type": "code",
   "execution_count": null,
   "metadata": {},
   "outputs": [],
   "source": [
    "#Plot figure \n",
    "fig = go.Figure(\n",
    "    data=go.Ohlc(\n",
    "        x=tesla_price.index,\n",
    "        open=tesla_price[\"Open\"],\n",
    "        high=tesla_price[\"High\"],\n",
    "        low=tesla_price[\"Low\"],\n",
    "        close=tesla_price[\"Close\"],\n",
    "    )\n",
    ")\n",
    "fig.show()\n"
   ]
  },
  {
   "cell_type": "markdown",
   "metadata": {},
   "source": [
    "### Dataset\n",
    "Comprises the top 100 stocks in the S&P500 as of June 2021, and come from a variety of sectors as seen in the graph below. Stocks from the IT sector make up the majority of 24%."
   ]
  },
  {
   "cell_type": "code",
   "execution_count": null,
   "metadata": {},
   "outputs": [],
   "source": [
    "companies =['AAPL','MSFT','AMZN','FB','GOOGL','GOOG','TSLA','BRK-B','NVDA','JPM','JNJ','V','UNH','PYPL','HD','PG','MA','DIS',\n",
    "            'BAC','ADBE','XOM','CMCSA','NFLX','VZ','INTC','CRM','CSCO','PFE','KO','ABT','T','PEP','CVX','TMO','NKE','ABBV',\n",
    "            'MRK','AVGO','WMT','ACN','WFC','LLY','TXN','COST','DHR','MCD','MDT','QCOM','PM','LIN','UPS','HON','BMY','UNP',\n",
    "            'NEE','C','ORCL','AMGN','LOW','MS','INTU','SBUX','AMAT','IBM','BA','RTX','GS','AMT','BLK','TGT','CAT','GE','MMM',\n",
    "            'NOW','CVS','SCHW','DE','ISRG','AMD','AXP','CHTR','SPGI','ANTM','LRCX','MU','LMT','PLD','ZTS','BKNG','FIS','MDLZ',\n",
    "            'MO','GILD','SYK','CCI','TMUS','ADP','CI','PNC','TJX']"
   ]
  },
  {
   "cell_type": "code",
   "execution_count": 282,
   "metadata": {},
   "outputs": [
    {
     "data": {
      "image/png": "[encoded data removed]",
      "text/plain": [
       "<Figure size 432x288 with 1 Axes>"
      ]
     },
     "metadata": {
      "needs_background": "light"
     },
     "output_type": "display_data"
    }
   ],
   "source": [
    "sector = ['communication','consumer discretionary', 'consumer staples','energy','financials','healthcare','industrials','IT',\n",
    "          'materials','real estate','utilities']\n",
    "objects = [10,10,8,2,12,19,10,24,1,3,1]\n",
    "fig, ax = plt.subplots()\n",
    "plt.bar(sector, objects, align='center', alpha=0.5)\n",
    "plt.setp(ax.get_xticklabels(), rotation=30, horizontalalignment='right')\n",
    "plt.show()"
   ]
  },
  {
   "cell_type": "markdown",
   "metadata": {},
   "source": [
    "### MACD\n",
    "Moving average convergence divergence\n",
    "\n",
    "Basic strategy: A bullish signal is present when the MACD line crosses ABOVE the signal line and a bearish signal is present when the MACD line crosses BELOW the signal line.  \n",
    "\n",
    "In-depth strategy: When the crossover takes place below the zero line, traders may look for confirmation of an upward trend by waiting for the MACD line to cross over the zero line before opening a long position. Likewise, when the crossover occurs above the zero line, confirmation can be seen when the MACD line crosses below the zero line.\n",
    "\n",
    "From: https://www.dailyfx.com/education/moving-average-convergence-divergence/macd-crossover.html"
   ]
  },
  {
   "cell_type": "code",
   "execution_count": null,
   "metadata": {},
   "outputs": [],
   "source": [
    "# MACD line: 12 day EMA – 26 day EMA \n",
    "# Signal line: 9 day EMA of MACD line\n",
    "# MACD histogram: MACD line – signal line\n",
    "\n",
    "#Strategy: A bullish signal is present when the MACD line crosses ABOVE the signal line and is below the zero line. \n",
    "# When the crossover takes place, traders may look for confirmation of an upward trend by waiting for the MACD line to cross \n",
    "# over the zero line before opening a long position. Likewise, a bearish signal is present when the MACD line crosses BELOW\n",
    "# the signal line and is above the zero line. Again, confirmation can be seen when the MACD line crosses below the zero line.\n",
    "# From: https://www.dailyfx.com/education/moving-average-convergence-divergence/macd-crossover.html\n",
    "\n",
    "# Get support and resistance levels using fractals - candlestick pattern made by 5 candles. \n",
    "# From: https://github.com/gianlucamalato/machinelearning/blob/master/Support_and_resistance.ipynb\n",
    "\n",
    "def isSupport(df,i):\n",
    "    support = df['Low'][i] < df['Low'][i-1]  and df['Low'][i] < df['Low'][i+1] \\\n",
    "  and df['Low'][i+1] < df['Low'][i+2] and df['Low'][i-1] < df['Low'][i-2]\n",
    "    return support\n",
    "\n",
    "def isResistance(df,i):\n",
    "    resistance = df['High'][i] > df['High'][i-1]  and df['High'][i] > df['High'][i+1] \\\n",
    "  and df['High'][i+1] > df['High'][i+2] and df['High'][i-1] > df['High'][i-2] \n",
    "    return resistance\n",
    "\n",
    "levels = []\n",
    "for i in range(2,tesla_price.shape[0]-2):\n",
    "    if isSupport(tesla_price,i):\n",
    "        levels.append((i,tesla_price['Low'][i]))\n",
    "    elif isResistance(tesla_price,i):\n",
    "        levels.append((i,tesla_price['High'][i]))\n",
    "        \n",
    "\n"
   ]
  },
  {
   "cell_type": "code",
   "execution_count": null,
   "metadata": {},
   "outputs": [],
   "source": [
    "def plot_all():\n",
    "    fig, ax = plt.subplots()\n",
    "\n",
    "    candlestick_ohlc(ax,tesla_price.values,width=0.6, colorup='green', colordown='red', alpha=0.8)\n",
    "\n",
    "    date_format = mpl_dates.DateFormatter('%d %b %Y')\n",
    "    ax.xaxis.set_major_formatter(date_format)\n",
    "    fig.autofmt_xdate()\n",
    "\n",
    "    fig.tight_layout()\n",
    "\n",
    "    for level in support:\n",
    "        plt.hlines(level[1],xmin=tesla_price['Date'][level[0]],\\\n",
    "               xmax=max(tesla_price['Date']),colors='blue')\n",
    "    for level in resistance:\n",
    "        plt.hlines(level[1],xmin=tesla_price['Date'][level[0]],\\\n",
    "               xmax=max(tesla_price['Date']),colors='black')\n",
    "    fig.show()\n",
    "#support levels are blue and resistance levels are black"
   ]
  },
  {
   "cell_type": "code",
   "execution_count": null,
   "metadata": {},
   "outputs": [],
   "source": [
    "s =  np.mean(tesla_price['High'] - tesla_price['Low'])\n",
    "\n",
    "def isFarFromLevel(l):\n",
    "    return np.sum([abs(l-x) < s  for x in levels]) == 0\n",
    "\n",
    "support = []\n",
    "resistance = []\n",
    "levels = []\n",
    "for i in range(2,tesla_price.shape[0]-2):\n",
    "    if isSupport(tesla_price,i):\n",
    "        l = tesla_price['Low'][i]\n",
    "        if isFarFromLevel(l):\n",
    "            levels.append((i,l))\n",
    "            support.append((i,l))\n",
    "\n",
    "    elif isResistance(tesla_price,i):\n",
    "        l = tesla_price['High'][i]\n",
    "        if isFarFromLevel(l):\n",
    "            levels.append((i,l))\n",
    "            resistance.append((i,l))\n",
    "            \n",
    "\n",
    "\n",
    "    "
   ]
  },
  {
   "cell_type": "code",
   "execution_count": null,
   "metadata": {},
   "outputs": [],
   "source": [
    "plot_all()"
   ]
  },
  {
   "cell_type": "code",
   "execution_count": null,
   "metadata": {},
   "outputs": [],
   "source": [
    "plt.bar(tesla_price['Date'],macd[2],color = 'r')\n"
   ]
  },
  {
   "cell_type": "code",
   "execution_count": null,
   "metadata": {},
   "outputs": [],
   "source": [
    "#plot - NEED TO FIX DATE ON X AXIS \n",
    "\n",
    "#fig, ax = plt.subplots()\n",
    "fig=plt.figure()\n",
    "fig.add_subplot(211)\n",
    "plt.bar(tesla_price['Date'],macd[2],color = 'r')\n",
    "#date_format = mpl_dates.DateFormatter('%d %b %Y')\n",
    "#ax.xaxis.set_major_formatter(date_format)\n",
    "#fig.autofmt_xdate()\n",
    "plt.axhline(y=0.5, color='b', linestyle='-')\n",
    "\n",
    "plt.legend(loc='best')\n",
    "plt.grid(True)\n",
    "plt.xticks([])\n",
    "plt.xlabel('')\n",
    "plt.title('MACD Oscillator')\n",
    "\n",
    "\n",
    "fig.add_subplot(212)\n",
    "\n",
    "macd[0].plot(label='ma1')\n",
    "macd[1].plot(label='ma2',linestyle=':')\n",
    "    \n",
    "plt.legend(loc='best')\n",
    "plt.grid(True)\n",
    "plt.show()"
   ]
  },
  {
   "cell_type": "code",
   "execution_count": null,
   "metadata": {},
   "outputs": [],
   "source": [
    "timeframe = {'1m':'5m'}\n",
    "timeframe['1m']"
   ]
  },
  {
   "cell_type": "code",
   "execution_count": 77,
   "metadata": {},
   "outputs": [],
   "source": [
    "# Using higher timeframe \n",
    "# Function that takes in the security, no. of days for moving avg to calculate profit\n",
    "# and returns strategy performance for max of last 10 years \n",
    "def MACD(security, days):\n",
    "    #timeframe_dict = {'1m':'5m','2m':'15m','5m':'30m','15m':'1h','30m':'1h','60m':'1d','90m':'1d','1h':'1d','1d':'1wk','5d':'1mo','1wk':'1mo','1mo':'3mo'}\n",
    "    security_price = yf.download(security, period = '10y', interval='1wk')\n",
    "    security_price = security_price.dropna()\n",
    "    security_price = security_price.reset_index() \n",
    "    if security_price['Date'].iloc[-1] == security_price['Date'].iloc[-2]:\n",
    "        security_price = security_price.drop(len(price_df)-1)\n",
    "    security_short = yf.download(security, period = '10y', interval='1d')\n",
    "    security_short = security_short.dropna()\n",
    "    security_short = security_short.reset_index()\n",
    "    macd = talib.MACD(security_price['Close'], fastperiod=12, slowperiod=26, signalperiod=9) #macd line, signal line, macd histogram\n",
    "    diff = macd[2].tolist() \n",
    "    macdline = macd[0].tolist()\n",
    "    \n",
    "    # 1) Buy when macd line is above signal line, sell when macd line is below signal line\n",
    "    \n",
    "    #find start point where macd histogram starts\n",
    "    for i in range(len(diff)):\n",
    "        if math.isnan(diff[i])!= True:\n",
    "            start = i\n",
    "            break \n",
    "    diff = diff[i:]\n",
    "\n",
    "    #find all crossover points which returns the index, value, and whether to short (0) or long (1) \n",
    "    crossover_list = []\n",
    "    def crossover(vals):\n",
    "        if len(vals) == 1:\n",
    "            return vals[0]\n",
    "        else:\n",
    "            cross = crossover(vals[1:])\n",
    "            if cross < 0 and vals[0] > 0: #0 for short\n",
    "                crossover_list.append((len(macd[2])-len(vals)+1,cross,0))\n",
    "            elif cross > 0 and vals[0] < 0: #1 for long\n",
    "                crossover_list.append((len(macd[2])-len(vals)+1,cross,1))\n",
    "            return vals[0]\n",
    "        \n",
    "    crossover(diff)\n",
    "    crossover_list.sort()\n",
    "\n",
    "    # 2) bullish crossover (if crossover happened below 0, then buy when macd line crosses above 0 and vice versa)\n",
    "    crossover_list2 = [] # returns index of crossover, index of macd line crossing above/below 0, macd line \n",
    "    for i in range(len(crossover_list)):\n",
    "        if crossover_list[i][1]>0 and macdline[crossover_list[i][0]] < 0: #crossover from negative to positive macd histogram, and below 0\n",
    "            try:\n",
    "                index = -1\n",
    "                for j in macdline[crossover_list[i][0]:]:\n",
    "                    index += 1\n",
    "                    if j > 0:\n",
    "                        crossover_list2.append((crossover_list[i][0],crossover_list[i][0]+index,j,crossover_list[i][2]))\n",
    "                        break\n",
    "            except:\n",
    "                pass\n",
    "        elif crossover_list[i][1]<0 and macdline[crossover_list[i][0]] > 0:\n",
    "            try:\n",
    "                index = -1\n",
    "                for j in macdline[crossover_list[i][0]:]:\n",
    "                    index += 1\n",
    "                    if j < 0:\n",
    "                        crossover_list2.append((crossover_list[i][0],crossover_list[i][0]+index,j,crossover_list[i][2]))\n",
    "                        break\n",
    "            except:\n",
    "                pass\n",
    "    # remove duplicates as bullish crossover may be at the same point for several crossovers in crossover_list (for part 1)\n",
    "    remove_list = [] \n",
    "    for i in range(len(crossover_list2[:-1])):\n",
    "        dupe = crossover_list2[i][1]\n",
    "        if crossover_list2[i+1][1] == dupe:\n",
    "            remove_list.append(i+1)\n",
    "    for i in sorted(remove_list,reverse=True):\n",
    "        crossover_list2.pop(i)\n",
    "        \n",
    "    #create df to store primary results\n",
    "    col = ['Date', 'Price', 'Strategy', 'MA'+str(days), 'Max/Min price','Profit']\n",
    "    MACD_df = pd.DataFrame(columns = col)\n",
    "\n",
    "    for i in range(len(crossover_list)):\n",
    "        date = security_price['Date'].iloc[crossover_list[i][0]]\n",
    "        index = security_short.index[security_short['Date'] == date].tolist() #compare back with shorter timeframe prices\n",
    "        count = 0\n",
    "        while len(index) == 0: #when shorter timeframe df does not contain date in higher timeframe \n",
    "            date_short = date + timedelta(days=1) \n",
    "            index = security_short.index[security_short['Date'] == date_short].tolist()\n",
    "            count += 1\n",
    "            if count > 5: #asssume that after adding 5 days and still shorter timeframe has no date, then use last date on shorter timeframe\n",
    "                index = [-1]\n",
    "                break \n",
    "                \n",
    "        price = security_price['Close'].iloc[crossover_list[i][0]]\n",
    "        strategy = crossover_list[i][2]\n",
    "        if strategy == 0:\n",
    "            try:\n",
    "                max_min_price = min(security_short['Close'].iloc[index[0]:index[0]+days])\n",
    "            except:\n",
    "                #max_min_price = 0\n",
    "                max_min_price = min(security_short['Close'].iloc[index[0]:])\n",
    "        else:\n",
    "            try:\n",
    "                max_min_price = max(security_short['Close'].iloc[index[0]:index[0]+days])\n",
    "            except:\n",
    "                max_min_price = 0\n",
    "                #max_min_price = max(security_short['Close'].iloc[index[0]:])\n",
    "\n",
    "        try: \n",
    "            ma = talib.SMA(security_short['Close'],timeperiod=days)[index[0]+days] #moving avg\n",
    "        except:\n",
    "            ma = security_short['Close'].iloc[-1] #if not enough time to calculate moving avg, get the last value \n",
    "        \n",
    "        if ma > price and strategy == 1:\n",
    "            profit = 1\n",
    "        elif ma < price and strategy == 0:\n",
    "            profit = 1 \n",
    "        else:\n",
    "            profit = 0 \n",
    "        series = pd.Series([date,price,strategy,ma,max_min_price,profit], index = col)\n",
    "        MACD_df = MACD_df.append(series,ignore_index = True)\n",
    "\n",
    "    #create df to store secondary results\n",
    "    MACD_df2 = pd.DataFrame(columns = col)\n",
    "\n",
    "    for i in range(len(crossover_list2)):\n",
    "        date = security_price['Date'].iloc[crossover_list2[i][1]]\n",
    "        index = security_short.index[security_short['Date'] == date].tolist()\n",
    "        while len(index) == 0: #when shorter timeframe df does not contain date in higher timeframe \n",
    "            date_short = date + timedelta(days=1) \n",
    "            index = security_short.index[security_short['Date'] == date_short].tolist()\n",
    "            count += 1\n",
    "            if count > 5: #asssume that after adding 5 days and still shorter timeframe has no date, then use last date on shorter timeframe\n",
    "                index = [-1]\n",
    "                break \n",
    "        price = security_price['Close'].iloc[crossover_list2[i][1]]\n",
    "        strategy = crossover_list2[i][3]\n",
    "        if strategy == 0:\n",
    "            try:\n",
    "                max_min_price = min(security_short['Close'].iloc[index[0]:index[0]+days])\n",
    "            except:\n",
    "                max_min_price = min(security_short['Close'].iloc[index[0]:])\n",
    "        else:\n",
    "            try:\n",
    "                max_min_price = max(security_short['Close'].iloc[index[0]:index[0]+days])\n",
    "            except:\n",
    "                max_min_price = max(security_short['Close'].iloc[index[0]:])\n",
    "            \n",
    "        try: \n",
    "            ma = talib.SMA(security_short['Close'],timeperiod=days)[index[0]+days]\n",
    "        except:\n",
    "            ma = security_short['Close'].iloc[-1]\n",
    "        \n",
    "        if ma > price and strategy == 1:\n",
    "            profit = 1\n",
    "        elif ma < price and strategy == 0:\n",
    "            profit = 1 \n",
    "        else:\n",
    "            profit = 0 \n",
    "        series = pd.Series([date,price,strategy,ma,max_min_price,profit], index = col)\n",
    "        MACD_df2 = MACD_df2.append(series,ignore_index = True)\n",
    "    return (MACD_df,MACD_df2)\n"
   ]
  },
  {
   "cell_type": "code",
   "execution_count": 3,
   "metadata": {},
   "outputs": [],
   "source": [
    "def MACD_same(security, days, timeframe):\n",
    "    #timeframe_dict = {'1m':'5m','2m':'15m','5m':'30m','15m':'1h','30m':'1h','60m':'1d','90m':'1d','1h':'1d','1d':'1wk','5d':'1mo','1wk':'1mo','1mo':'3mo'}\n",
    "    security_price = yf.download(security, period = '10y', interval=timeframe)\n",
    "    security_price = security_price.dropna()\n",
    "    security_price = security_price.reset_index() \n",
    "    macd = talib.MACD(security_price['Close'], fastperiod=12, slowperiod=26, signalperiod=9) #macd line, signal line, macd histogram\n",
    "    diff = macd[2].tolist() \n",
    "    macdline = macd[0].tolist()\n",
    "    \n",
    "    # 1) Buy when macd line is above signal line, sell when macd line is below signal line\n",
    "    \n",
    "    #find start point where macd histogram starts\n",
    "    for i in range(len(diff)):\n",
    "        if math.isnan(diff[i])!= True:\n",
    "            start = i\n",
    "            break \n",
    "    diff = diff[i:]\n",
    "\n",
    "    #find all crossover points which returns the index, value, and whether to short (0) or long (1) \n",
    "    crossover_list = []\n",
    "    def crossover(vals):\n",
    "        if len(vals) == 1:\n",
    "            return vals[0]\n",
    "        else:\n",
    "            cross = crossover(vals[1:])\n",
    "            if cross < 0 and vals[0] > 0: #0 for short\n",
    "                crossover_list.append((len(macd[2])-len(vals)+1,cross,0))\n",
    "            elif cross > 0 and vals[0] < 0: #1 for long\n",
    "                crossover_list.append((len(macd[2])-len(vals)+1,cross,1))\n",
    "            return vals[0]\n",
    "        \n",
    "    crossover(diff)\n",
    "    crossover_list.sort()\n",
    "\n",
    "    # 2) bullish crossover (if crossover happened below 0, then buy when macd line crosses above 0 and vice versa)\n",
    "    crossover_list2 = [] # returns index of crossover, index of macd line crossing above/below 0, macd line \n",
    "    for i in range(len(crossover_list)):\n",
    "        if crossover_list[i][1]>0 and macdline[crossover_list[i][0]] < 0: #crossover from negative to positive macd histogram, and below 0\n",
    "            try:\n",
    "                index = -1\n",
    "                for j in macdline[crossover_list[i][0]:]:\n",
    "                    index += 1\n",
    "                    if j > 0:\n",
    "                        crossover_list2.append((crossover_list[i][0],crossover_list[i][0]+index,j,crossover_list[i][2]))\n",
    "                        break\n",
    "            except:\n",
    "                pass\n",
    "        elif crossover_list[i][1]<0 and macdline[crossover_list[i][0]] > 0:\n",
    "            try:\n",
    "                index = -1\n",
    "                for j in macdline[crossover_list[i][0]:]:\n",
    "                    index += 1\n",
    "                    if j < 0:\n",
    "                        crossover_list2.append((crossover_list[i][0],crossover_list[i][0]+index,j,crossover_list[i][2]))\n",
    "                        break\n",
    "            except:\n",
    "                pass\n",
    "    # remove duplicates as bullish crossover may be at the same point for several crossovers in crossover_list (for part 1)\n",
    "    remove_list = [] \n",
    "    for i in range(len(crossover_list2[:-1])):\n",
    "        dupe = crossover_list2[i][1]\n",
    "        if crossover_list2[i+1][1] == dupe:\n",
    "            remove_list.append(i+1)\n",
    "    for i in sorted(remove_list,reverse=True):\n",
    "        crossover_list2.pop(i)\n",
    "        \n",
    "    #create df to store primary results\n",
    "    col = ['Date', 'Price', 'Strategy', 'MA'+str(days), 'Max/Min price','Profit']\n",
    "    MACD_df = pd.DataFrame(columns = col)\n",
    "\n",
    "    for i in range(len(crossover_list)):\n",
    "        date = security_price['Date'].iloc[crossover_list[i][0]]\n",
    "        price = security_price['Close'].iloc[crossover_list[i][0]]\n",
    "        strategy = crossover_list[i][2]\n",
    "        if strategy == 0:\n",
    "            try:\n",
    "                max_min_price = min(security_price['Close'].iloc[crossover_list[i][0]:crossover_list[i][0]+days])\n",
    "            except:\n",
    "                max_min_price = min(security_price['Close'].iloc[crossover_list[i][0]:])\n",
    "        else:\n",
    "            try:\n",
    "                max_min_price = max(security_price['Close'].iloc[crossover_list[i][0]:crossover_list[i][0]+days])\n",
    "            except:\n",
    "                max_min_price = max(security_price['Close'].iloc[crossover_list[i][0]:])\n",
    "                \n",
    "\n",
    "        try: \n",
    "            ma = talib.SMA(security_price['Close'],timeperiod=days)[crossover_list[i][0]+days] #moving avg\n",
    "        except:\n",
    "            ma = security_price['Close'].iloc[-1] #if not enough time to calculate moving avg, get the last value \n",
    "        \n",
    "        if ma > price and strategy == 1:\n",
    "            profit = 1\n",
    "        elif ma < price and strategy == 0:\n",
    "            profit = 1 \n",
    "        else:\n",
    "            profit = 0 \n",
    "        series = pd.Series([date,price,strategy,ma,max_min_price,profit], index = col)\n",
    "        MACD_df = MACD_df.append(series,ignore_index = True)\n",
    "\n",
    "    #create df to store secondary results\n",
    "    MACD_df2 = pd.DataFrame(columns = col)\n",
    "\n",
    "    for i in range(len(crossover_list2)):\n",
    "        date = security_price['Date'].iloc[crossover_list2[i][1]]\n",
    "        price = security_price['Close'].iloc[crossover_list2[i][1]]\n",
    "        strategy = crossover_list2[i][3]\n",
    "        if strategy == 0:\n",
    "            try:\n",
    "                max_min_price = min(security_price['Close'].iloc[crossover_list2[i][0]:crossover_list2[i][0]+days])\n",
    "            except:\n",
    "                max_min_price = min(security_price['Close'].iloc[crossover_list2[i][0]:])\n",
    "        else:\n",
    "            try:\n",
    "                max_min_price = max(security_price['Close'].iloc[crossover_list2[i][0]:crossover_list2[i][0]+days])\n",
    "            except:\n",
    "                max_min_price = max(security_price['Close'].iloc[crossover_list2[i][0]:])\n",
    "            \n",
    "        try: \n",
    "            ma = talib.SMA(security_price['Close'],timeperiod=days)[crossover_list2[i][0]+days]\n",
    "        except:\n",
    "            ma = security_price['Close'].iloc[-1]\n",
    "        \n",
    "        if ma > price and strategy == 1:\n",
    "            profit = 1\n",
    "        elif ma < price and strategy == 0:\n",
    "            profit = 1 \n",
    "        else:\n",
    "            profit = 0 \n",
    "        series = pd.Series([date,price,strategy,ma,max_min_price,profit], index = col)\n",
    "        MACD_df2 = MACD_df2.append(series,ignore_index = True)\n",
    "    return (MACD_df,MACD_df2)\n"
   ]
  },
  {
   "cell_type": "markdown",
   "metadata": {},
   "source": [
    "### Visualize the strategy"
   ]
  },
  {
   "cell_type": "code",
   "execution_count": 37,
   "metadata": {},
   "outputs": [
    {
     "name": "stdout",
     "output_type": "stream",
     "text": [
      "[*********************100%***********************]  1 of 1 completed\n",
      "[*********************100%***********************]  1 of 1 completed\n"
     ]
    },
    {
     "data": {
      "image/png": "[encoded data removed]",
      "text/plain": [
       "<Figure size 432x288 with 3 Axes>"
      ]
     },
     "metadata": {
      "needs_background": "light"
     },
     "output_type": "display_data"
    }
   ],
   "source": [
    "def MACD_plot(df,ticker):\n",
    "    price_df1 = yf.download(ticker, start=\"2021-01-01\", end=\"2021-06-30\", interval='1d')\n",
    "    price_df = price_df1.dropna().reset_index()\n",
    "    price_df = price_df.loc[33:].reset_index()\n",
    "    fig,(ax1,ax2,ax3) = plt.subplots(nrows=3,ncols=1,sharex=True)\n",
    "    ax1.plot(price_df['Date'],price_df['Close'])\n",
    "    \n",
    "    #long positions\n",
    "    list_date = df.loc[df['Strategy']==1]['Date']\n",
    "    index_list = []\n",
    "    for i in list_date:\n",
    "        index_list.append(price_df.loc[price_df['Date']==i].index) \n",
    "    while len(index_list[0]) == 0:\n",
    "        index_list.pop(0)\n",
    "    long = pd.DataFrame(columns = price_df.columns)\n",
    "    for i in index_list:\n",
    "        long = long.append(price_df.iloc[i])\n",
    "    ax1.plot(long['Date'],long['Close'],label='LONG',lw=0,marker='^',c='g')\n",
    "    \n",
    "    #short positions\n",
    "    list_date = df.loc[df['Strategy']==0]['Date']\n",
    "    index_list = []\n",
    "    for i in list_date:\n",
    "        index_list.append(price_df.loc[price_df['Date']==i].index) \n",
    "    while len(index_list[0]) == 0:\n",
    "        index_list.pop(0)\n",
    "    short = pd.DataFrame(columns = price_df.columns)\n",
    "    for i in index_list:\n",
    "        short = short.append(price_df.iloc[i])\n",
    "    ax1.plot(short['Date'],short['Close'], label='SHORT',lw=0,marker='v',c='r')\n",
    "    ax1.legend(loc='best')\n",
    "    ax1.grid(True)\n",
    "    monthly = mdates.MonthLocator(interval=1)\n",
    "    ax1.xaxis.set_major_locator(monthly) #set x-axis to monthly ticks\n",
    "    \n",
    "    #MACD oscillation\n",
    "    macd = talib.MACD(price_df1['Close'], fastperiod=12, slowperiod=26, signalperiod=9)\n",
    "    #price_df['macd'].plot(kind='bar',color='r')\n",
    "    ax2.bar(price_df['Date'],macd[2][33:],color='r',label='MACD histogram')\n",
    "    ax2.legend(loc='best')\n",
    "    ax2.grid(True)\n",
    "    ax2.xaxis.set_major_locator(monthly)\n",
    "    \n",
    "    #macd line and signal line\n",
    "    ax3.plot(macd[0][33:],label = 'macd line')\n",
    "    ax3.plot(macd[1][33:],label = 'signal line', linestyle = ':')\n",
    "    ax3.grid(True)\n",
    "    ax3.legend(loc='best')\n",
    "    ax3.xaxis.set_major_locator(monthly)\n",
    "\n",
    "df = MACD_same('AAPL',21,'1d')[0]\n",
    "MACD_plot(df,'AAPL')"
   ]
  },
  {
   "cell_type": "markdown",
   "metadata": {},
   "source": [
    "### Results"
   ]
  },
  {
   "cell_type": "code",
   "execution_count": 37,
   "metadata": {},
   "outputs": [
    {
     "name": "stdout",
     "output_type": "stream",
     "text": [
      "[*********************100%***********************]  1 of 1 completed\n",
      "[*********************100%***********************]  1 of 1 completed\n",
      "[*********************100%***********************]  1 of 1 completed\n",
      "[*********************100%***********************]  1 of 1 completed\n",
      "[*********************100%***********************]  1 of 1 completed\n",
      "[*********************100%***********************]  1 of 1 completed\n",
      "[*********************100%***********************]  1 of 1 completed\n",
      "[*********************100%***********************]  1 of 1 completed\n",
      "[*********************100%***********************]  1 of 1 completed\n",
      "[*********************100%***********************]  1 of 1 completed\n",
      "[*********************100%***********************]  1 of 1 completed\n",
      "[*********************100%***********************]  1 of 1 completed\n",
      "[*********************100%***********************]  1 of 1 completed\n",
      "[*********************100%***********************]  1 of 1 completed\n",
      "[*********************100%***********************]  1 of 1 completed\n",
      "[*********************100%***********************]  1 of 1 completed\n",
      "[*********************100%***********************]  1 of 1 completed\n",
      "[*********************100%***********************]  1 of 1 completed\n",
      "[*********************100%***********************]  1 of 1 completed\n",
      "[*********************100%***********************]  1 of 1 completed\n",
      "[*********************100%***********************]  1 of 1 completed\n",
      "[*********************100%***********************]  1 of 1 completed\n",
      "[*********************100%***********************]  1 of 1 completed\n",
      "[*********************100%***********************]  1 of 1 completed\n",
      "[*********************100%***********************]  1 of 1 completed\n",
      "[*********************100%***********************]  1 of 1 completed\n",
      "[*********************100%***********************]  1 of 1 completed\n",
      "[*********************100%***********************]  1 of 1 completed\n",
      "[*********************100%***********************]  1 of 1 completed\n",
      "[*********************100%***********************]  1 of 1 completed\n"
     ]
    }
   ],
   "source": [
    "# Results for same trading timeframe \n",
    "itlist = ['AAPL','MSFT','V','NVDA','MA','PYPL','ADBE','INTC', 'ORCL','CSCO','CRM','ACN','AVGO','TXN','QCOM','IBM','AMAT','INTU',\n",
    "         'AMD','NOW','FIS','MU','LRCX','ADP','FISV','ADSK','ADI','GPN','NXPI','KLAC']\n",
    "it_dict = {}\n",
    "for i in itlist:\n",
    "    it_dict[i] = MACD_same(i,21,'1d')\n",
    "    "
   ]
  },
  {
   "cell_type": "code",
   "execution_count": 135,
   "metadata": {},
   "outputs": [
    {
     "name": "stdout",
     "output_type": "stream",
     "text": [
      "[*********************100%***********************]  1 of 1 completed\n",
      "[*********************100%***********************]  1 of 1 completed\n",
      "[*********************100%***********************]  1 of 1 completed\n",
      "[*********************100%***********************]  1 of 1 completed\n",
      "[*********************100%***********************]  1 of 1 completed\n",
      "[*********************100%***********************]  1 of 1 completed\n",
      "[*********************100%***********************]  1 of 1 completed\n",
      "[*********************100%***********************]  1 of 1 completed\n",
      "[*********************100%***********************]  1 of 1 completed\n",
      "[*********************100%***********************]  1 of 1 completed\n",
      "[*********************100%***********************]  1 of 1 completed\n",
      "[*********************100%***********************]  1 of 1 completed\n",
      "[*********************100%***********************]  1 of 1 completed\n",
      "[*********************100%***********************]  1 of 1 completed\n",
      "[*********************100%***********************]  1 of 1 completed\n",
      "[*********************100%***********************]  1 of 1 completed\n",
      "[*********************100%***********************]  1 of 1 completed\n",
      "[*********************100%***********************]  1 of 1 completed\n",
      "[*********************100%***********************]  1 of 1 completed\n",
      "[*********************100%***********************]  1 of 1 completed\n",
      "[*********************100%***********************]  1 of 1 completed\n",
      "[*********************100%***********************]  1 of 1 completed\n",
      "[*********************100%***********************]  1 of 1 completed\n",
      "[*********************100%***********************]  1 of 1 completed\n",
      "[*********************100%***********************]  1 of 1 completed\n",
      "[*********************100%***********************]  1 of 1 completed\n",
      "[*********************100%***********************]  1 of 1 completed\n",
      "[*********************100%***********************]  1 of 1 completed\n",
      "[*********************100%***********************]  1 of 1 completed\n",
      "[*********************100%***********************]  1 of 1 completed\n",
      "[*********************100%***********************]  1 of 1 completed\n",
      "[*********************100%***********************]  1 of 1 completed\n",
      "[*********************100%***********************]  1 of 1 completed\n",
      "[*********************100%***********************]  1 of 1 completed\n",
      "[*********************100%***********************]  1 of 1 completed\n",
      "[*********************100%***********************]  1 of 1 completed\n",
      "[*********************100%***********************]  1 of 1 completed\n",
      "[*********************100%***********************]  1 of 1 completed\n",
      "[*********************100%***********************]  1 of 1 completed\n",
      "[*********************100%***********************]  1 of 1 completed\n",
      "[*********************100%***********************]  1 of 1 completed\n",
      "[*********************100%***********************]  1 of 1 completed\n",
      "[*********************100%***********************]  1 of 1 completed\n",
      "[*********************100%***********************]  1 of 1 completed\n",
      "[*********************100%***********************]  1 of 1 completed\n",
      "[*********************100%***********************]  1 of 1 completed\n",
      "[*********************100%***********************]  1 of 1 completed\n",
      "[*********************100%***********************]  1 of 1 completed\n",
      "[*********************100%***********************]  1 of 1 completed\n",
      "[*********************100%***********************]  1 of 1 completed\n",
      "[*********************100%***********************]  1 of 1 completed\n",
      "[*********************100%***********************]  1 of 1 completed\n",
      "[*********************100%***********************]  1 of 1 completed\n",
      "[*********************100%***********************]  1 of 1 completed\n",
      "[*********************100%***********************]  1 of 1 completed\n",
      "[*********************100%***********************]  1 of 1 completed\n",
      "[*********************100%***********************]  1 of 1 completed\n",
      "[*********************100%***********************]  1 of 1 completed\n",
      "[*********************100%***********************]  1 of 1 completed\n",
      "[*********************100%***********************]  1 of 1 completed\n",
      "[*********************100%***********************]  1 of 1 completed\n",
      "[*********************100%***********************]  1 of 1 completed\n",
      "[*********************100%***********************]  1 of 1 completed\n",
      "[*********************100%***********************]  1 of 1 completed\n",
      "[*********************100%***********************]  1 of 1 completed\n",
      "[*********************100%***********************]  1 of 1 completed\n",
      "[*********************100%***********************]  1 of 1 completed\n",
      "[*********************100%***********************]  1 of 1 completed\n",
      "[*********************100%***********************]  1 of 1 completed\n",
      "[*********************100%***********************]  1 of 1 completed\n",
      "[*********************100%***********************]  1 of 1 completed\n",
      "[*********************100%***********************]  1 of 1 completed\n",
      "[*********************100%***********************]  1 of 1 completed\n",
      "[*********************100%***********************]  1 of 1 completed\n",
      "[*********************100%***********************]  1 of 1 completed\n",
      "[*********************100%***********************]  1 of 1 completed\n",
      "[*********************100%***********************]  1 of 1 completed\n",
      "[*********************100%***********************]  1 of 1 completed\n",
      "[*********************100%***********************]  1 of 1 completed\n",
      "[*********************100%***********************]  1 of 1 completed\n",
      "[*********************100%***********************]  1 of 1 completed\n",
      "[*********************100%***********************]  1 of 1 completed\n",
      "[*********************100%***********************]  1 of 1 completed\n",
      "[*********************100%***********************]  1 of 1 completed\n",
      "[*********************100%***********************]  1 of 1 completed\n",
      "[*********************100%***********************]  1 of 1 completed\n",
      "[*********************100%***********************]  1 of 1 completed\n",
      "[*********************100%***********************]  1 of 1 completed\n",
      "[*********************100%***********************]  1 of 1 completed\n",
      "[*********************100%***********************]  1 of 1 completed\n",
      "[*********************100%***********************]  1 of 1 completed\n",
      "[*********************100%***********************]  1 of 1 completed\n",
      "[*********************100%***********************]  1 of 1 completed\n",
      "[*********************100%***********************]  1 of 1 completed\n",
      "[*********************100%***********************]  1 of 1 completed\n",
      "[*********************100%***********************]  1 of 1 completed\n",
      "[*********************100%***********************]  1 of 1 completed\n",
      "[*********************100%***********************]  1 of 1 completed\n",
      "[*********************100%***********************]  1 of 1 completed\n",
      "[*********************100%***********************]  1 of 1 completed\n"
     ]
    }
   ],
   "source": [
    "companies =['AAPL','MSFT','AMZN','FB','GOOGL','GOOG','TSLA','BRK-B','NVDA','JPM','JNJ','V','UNH','PYPL','HD','PG','MA','DIS',\n",
    "            'BAC','ADBE','XOM','CMCSA','NFLX','VZ','INTC','CRM','CSCO','PFE','KO','ABT','T','PEP','CVX','TMO','NKE','ABBV',\n",
    "            'MRK','AVGO','WMT','ACN','WFC','LLY','TXN','COST','DHR','MCD','MDT','QCOM','PM','LIN','UPS','HON','BMY','UNP',\n",
    "            'NEE','C','ORCL','AMGN','LOW','MS','INTU','SBUX','AMAT','IBM','BA','RTX','GS','AMT','BLK','TGT','CAT','GE','MMM',\n",
    "            'NOW','CVS','SCHW','DE','ISRG','AMD','AXP','CHTR','SPGI','ANTM','LRCX','MU','LMT','PLD','ZTS','BKNG','FIS','MDLZ',\n",
    "            'MO','GILD','SYK','CCI','TMUS','ADP','CI','PNC','TJX']\n",
    "macd_dict = {}\n",
    "for i in companies:\n",
    "    macd_dict[i] = MACD_same(i,21,'1d')"
   ]
  },
  {
   "cell_type": "code",
   "execution_count": 136,
   "metadata": {},
   "outputs": [
    {
     "name": "stdout",
     "output_type": "stream",
     "text": [
      "[*********************100%***********************]  1 of 1 completed\n",
      "[*********************100%***********************]  1 of 1 completed\n",
      "[*********************100%***********************]  1 of 1 completed\n",
      "[*********************100%***********************]  1 of 1 completed\n",
      "[*********************100%***********************]  1 of 1 completed\n",
      "[*********************100%***********************]  1 of 1 completed\n",
      "[*********************100%***********************]  1 of 1 completed\n",
      "[*********************100%***********************]  1 of 1 completed\n",
      "[*********************100%***********************]  1 of 1 completed\n",
      "[*********************100%***********************]  1 of 1 completed\n",
      "[*********************100%***********************]  1 of 1 completed\n",
      "[*********************100%***********************]  1 of 1 completed\n",
      "[*********************100%***********************]  1 of 1 completed\n",
      "[*********************100%***********************]  1 of 1 completed\n",
      "[*********************100%***********************]  1 of 1 completed\n",
      "[*********************100%***********************]  1 of 1 completed\n",
      "[*********************100%***********************]  1 of 1 completed\n",
      "[*********************100%***********************]  1 of 1 completed\n",
      "[*********************100%***********************]  1 of 1 completed\n",
      "[*********************100%***********************]  1 of 1 completed\n",
      "[*********************100%***********************]  1 of 1 completed\n",
      "[*********************100%***********************]  1 of 1 completed\n",
      "[*********************100%***********************]  1 of 1 completed\n",
      "[*********************100%***********************]  1 of 1 completed\n",
      "[*********************100%***********************]  1 of 1 completed\n",
      "[*********************100%***********************]  1 of 1 completed\n",
      "[*********************100%***********************]  1 of 1 completed\n",
      "[*********************100%***********************]  1 of 1 completed\n",
      "[*********************100%***********************]  1 of 1 completed\n",
      "[*********************100%***********************]  1 of 1 completed\n",
      "[*********************100%***********************]  1 of 1 completed\n",
      "[*********************100%***********************]  1 of 1 completed\n",
      "[*********************100%***********************]  1 of 1 completed\n",
      "[*********************100%***********************]  1 of 1 completed\n",
      "[*********************100%***********************]  1 of 1 completed\n",
      "[*********************100%***********************]  1 of 1 completed\n",
      "[*********************100%***********************]  1 of 1 completed\n",
      "[*********************100%***********************]  1 of 1 completed\n",
      "[*********************100%***********************]  1 of 1 completed\n",
      "[*********************100%***********************]  1 of 1 completed\n",
      "[*********************100%***********************]  1 of 1 completed\n",
      "[*********************100%***********************]  1 of 1 completed\n",
      "[*********************100%***********************]  1 of 1 completed\n",
      "[*********************100%***********************]  1 of 1 completed\n",
      "[*********************100%***********************]  1 of 1 completed\n",
      "[*********************100%***********************]  1 of 1 completed\n",
      "[*********************100%***********************]  1 of 1 completed\n",
      "[*********************100%***********************]  1 of 1 completed\n",
      "[*********************100%***********************]  1 of 1 completed\n",
      "[*********************100%***********************]  1 of 1 completed\n",
      "[*********************100%***********************]  1 of 1 completed\n",
      "[*********************100%***********************]  1 of 1 completed\n",
      "[*********************100%***********************]  1 of 1 completed\n",
      "[*********************100%***********************]  1 of 1 completed\n",
      "[*********************100%***********************]  1 of 1 completed\n",
      "[*********************100%***********************]  1 of 1 completed\n",
      "[*********************100%***********************]  1 of 1 completed\n",
      "[*********************100%***********************]  1 of 1 completed\n",
      "[*********************100%***********************]  1 of 1 completed\n",
      "[*********************100%***********************]  1 of 1 completed\n",
      "[*********************100%***********************]  1 of 1 completed\n",
      "[*********************100%***********************]  1 of 1 completed\n",
      "[*********************100%***********************]  1 of 1 completed\n",
      "[*********************100%***********************]  1 of 1 completed\n",
      "[*********************100%***********************]  1 of 1 completed\n",
      "[*********************100%***********************]  1 of 1 completed\n",
      "[*********************100%***********************]  1 of 1 completed\n",
      "[*********************100%***********************]  1 of 1 completed\n",
      "[*********************100%***********************]  1 of 1 completed\n",
      "[*********************100%***********************]  1 of 1 completed\n",
      "[*********************100%***********************]  1 of 1 completed\n",
      "[*********************100%***********************]  1 of 1 completed\n",
      "[*********************100%***********************]  1 of 1 completed\n",
      "[*********************100%***********************]  1 of 1 completed\n",
      "[*********************100%***********************]  1 of 1 completed\n",
      "[*********************100%***********************]  1 of 1 completed\n",
      "[*********************100%***********************]  1 of 1 completed\n",
      "[*********************100%***********************]  1 of 1 completed\n",
      "[*********************100%***********************]  1 of 1 completed\n",
      "[*********************100%***********************]  1 of 1 completed\n",
      "[*********************100%***********************]  1 of 1 completed\n",
      "[*********************100%***********************]  1 of 1 completed\n",
      "[*********************100%***********************]  1 of 1 completed\n",
      "[*********************100%***********************]  1 of 1 completed\n",
      "[*********************100%***********************]  1 of 1 completed\n",
      "[*********************100%***********************]  1 of 1 completed\n",
      "[*********************100%***********************]  1 of 1 completed\n",
      "[*********************100%***********************]  1 of 1 completed\n",
      "[*********************100%***********************]  1 of 1 completed\n",
      "[*********************100%***********************]  1 of 1 completed\n",
      "[*********************100%***********************]  1 of 1 completed\n",
      "[*********************100%***********************]  1 of 1 completed\n",
      "[*********************100%***********************]  1 of 1 completed\n",
      "[*********************100%***********************]  1 of 1 completed\n",
      "[*********************100%***********************]  1 of 1 completed\n",
      "[*********************100%***********************]  1 of 1 completed\n",
      "[*********************100%***********************]  1 of 1 completed\n",
      "[*********************100%***********************]  1 of 1 completed\n",
      "[*********************100%***********************]  1 of 1 completed\n",
      "[*********************100%***********************]  1 of 1 completed\n",
      "[*********************100%***********************]  1 of 1 completed\n",
      "[*********************100%***********************]  1 of 1 completed\n",
      "[*********************100%***********************]  1 of 1 completed\n",
      "[*********************100%***********************]  1 of 1 completed\n",
      "[*********************100%***********************]  1 of 1 completed\n",
      "[*********************100%***********************]  1 of 1 completed\n",
      "[*********************100%***********************]  1 of 1 completed\n",
      "[*********************100%***********************]  1 of 1 completed\n",
      "[*********************100%***********************]  1 of 1 completed\n",
      "[*********************100%***********************]  1 of 1 completed\n",
      "[*********************100%***********************]  1 of 1 completed\n",
      "[*********************100%***********************]  1 of 1 completed\n",
      "[*********************100%***********************]  1 of 1 completed\n",
      "[*********************100%***********************]  1 of 1 completed\n",
      "[*********************100%***********************]  1 of 1 completed\n",
      "[*********************100%***********************]  1 of 1 completed\n",
      "[*********************100%***********************]  1 of 1 completed\n",
      "[*********************100%***********************]  1 of 1 completed\n"
     ]
    },
    {
     "name": "stdout",
     "output_type": "stream",
     "text": [
      "[*********************100%***********************]  1 of 1 completed\n",
      "[*********************100%***********************]  1 of 1 completed\n",
      "[*********************100%***********************]  1 of 1 completed\n",
      "[*********************100%***********************]  1 of 1 completed\n",
      "[*********************100%***********************]  1 of 1 completed\n",
      "[*********************100%***********************]  1 of 1 completed\n",
      "[*********************100%***********************]  1 of 1 completed\n",
      "[*********************100%***********************]  1 of 1 completed\n",
      "[*********************100%***********************]  1 of 1 completed\n",
      "[*********************100%***********************]  1 of 1 completed\n",
      "[*********************100%***********************]  1 of 1 completed\n",
      "[*********************100%***********************]  1 of 1 completed\n",
      "[*********************100%***********************]  1 of 1 completed\n",
      "[*********************100%***********************]  1 of 1 completed\n",
      "[*********************100%***********************]  1 of 1 completed\n",
      "[*********************100%***********************]  1 of 1 completed\n",
      "[*********************100%***********************]  1 of 1 completed\n",
      "[*********************100%***********************]  1 of 1 completed\n",
      "[*********************100%***********************]  1 of 1 completed\n",
      "[*********************100%***********************]  1 of 1 completed\n",
      "[*********************100%***********************]  1 of 1 completed\n",
      "[*********************100%***********************]  1 of 1 completed\n",
      "[*********************100%***********************]  1 of 1 completed\n",
      "[*********************100%***********************]  1 of 1 completed\n",
      "[*********************100%***********************]  1 of 1 completed\n",
      "[*********************100%***********************]  1 of 1 completed\n",
      "[*********************100%***********************]  1 of 1 completed\n",
      "[*********************100%***********************]  1 of 1 completed\n",
      "[*********************100%***********************]  1 of 1 completed\n",
      "[*********************100%***********************]  1 of 1 completed\n",
      "[*********************100%***********************]  1 of 1 completed\n",
      "[*********************100%***********************]  1 of 1 completed\n",
      "[*********************100%***********************]  1 of 1 completed\n",
      "[*********************100%***********************]  1 of 1 completed\n",
      "[*********************100%***********************]  1 of 1 completed\n",
      "[*********************100%***********************]  1 of 1 completed\n",
      "[*********************100%***********************]  1 of 1 completed\n",
      "[*********************100%***********************]  1 of 1 completed\n",
      "[*********************100%***********************]  1 of 1 completed\n",
      "[*********************100%***********************]  1 of 1 completed\n",
      "[*********************100%***********************]  1 of 1 completed\n",
      "[*********************100%***********************]  1 of 1 completed\n",
      "[*********************100%***********************]  1 of 1 completed\n",
      "[*********************100%***********************]  1 of 1 completed\n",
      "[*********************100%***********************]  1 of 1 completed\n",
      "[*********************100%***********************]  1 of 1 completed\n",
      "[*********************100%***********************]  1 of 1 completed\n",
      "[*********************100%***********************]  1 of 1 completed\n",
      "[*********************100%***********************]  1 of 1 completed\n",
      "[*********************100%***********************]  1 of 1 completed\n",
      "[*********************100%***********************]  1 of 1 completed\n",
      "[*********************100%***********************]  1 of 1 completed\n",
      "[*********************100%***********************]  1 of 1 completed\n",
      "[*********************100%***********************]  1 of 1 completed\n",
      "[*********************100%***********************]  1 of 1 completed\n",
      "[*********************100%***********************]  1 of 1 completed\n",
      "[*********************100%***********************]  1 of 1 completed\n",
      "[*********************100%***********************]  1 of 1 completed\n",
      "[*********************100%***********************]  1 of 1 completed\n",
      "[*********************100%***********************]  1 of 1 completed\n",
      "[*********************100%***********************]  1 of 1 completed\n",
      "[*********************100%***********************]  1 of 1 completed\n",
      "[*********************100%***********************]  1 of 1 completed\n",
      "[*********************100%***********************]  1 of 1 completed\n",
      "[*********************100%***********************]  1 of 1 completed\n",
      "[*********************100%***********************]  1 of 1 completed\n",
      "[*********************100%***********************]  1 of 1 completed\n",
      "[*********************100%***********************]  1 of 1 completed\n",
      "[*********************100%***********************]  1 of 1 completed\n",
      "[*********************100%***********************]  1 of 1 completed\n",
      "[*********************100%***********************]  1 of 1 completed\n",
      "[*********************100%***********************]  1 of 1 completed\n",
      "[*********************100%***********************]  1 of 1 completed\n",
      "[*********************100%***********************]  1 of 1 completed\n",
      "[*********************100%***********************]  1 of 1 completed\n",
      "[*********************100%***********************]  1 of 1 completed\n",
      "[*********************100%***********************]  1 of 1 completed\n",
      "[*********************100%***********************]  1 of 1 completed\n",
      "[*********************100%***********************]  1 of 1 completed\n",
      "[*********************100%***********************]  1 of 1 completed\n",
      "[*********************100%***********************]  1 of 1 completed\n",
      "[*********************100%***********************]  1 of 1 completed\n"
     ]
    }
   ],
   "source": [
    "# Results for higher timeframe\n",
    "macd_dict_high = {}\n",
    "for i in companies:\n",
    "    macd_dict_high[i] = MACD(i,21)"
   ]
  },
  {
   "cell_type": "code",
   "execution_count": 147,
   "metadata": {},
   "outputs": [],
   "source": [
    "#function to get results\n",
    "def MACD_results(df):\n",
    "    total_trades = len(df)\n",
    "    win_rate = df['Profit'].sum()/total_trades*100\n",
    "    total_profit = 0\n",
    "    avg_price = df.columns[3]\n",
    "    for i in range(len(df)):\n",
    "        if df['Strategy'].iloc[i] == 0:\n",
    "            profit = (df['Price'].iloc[i]-df[avg_price].iloc[i])/df[avg_price].iloc[i]*100\n",
    "        else:\n",
    "            profit = (df[avg_price].iloc[i]-df['Price'].iloc[i])/df['Price'].iloc[i]*100\n",
    "        total_profit += profit\n",
    "    avg_profit = total_profit/total_trades\n",
    "    return [total_trades,win_rate,avg_profit]\n",
    "\n",
    "macd_results = {}\n",
    "for i in macd_dict:\n",
    "    macd_results[i] = [MACD_results(macd_dict[i][0])]\n",
    "    macd_results[i].append(MACD_results(macd_dict[i][1])) \n",
    "    \n",
    "macd_results_high = {}\n",
    "for i in macd_dict_high:\n",
    "    macd_results_high[i] = [MACD_results(macd_dict_high[i][0])]\n",
    "    macd_results_high[i].append(MACD_results(macd_dict_high[i][1])) \n",
    "#results show the total trades, win rate, avg profit for using the higher timeframe with the basic and strict results. "
   ]
  },
  {
   "cell_type": "code",
   "execution_count": 184,
   "metadata": {},
   "outputs": [
    {
     "data": {
      "text/plain": [
       "[[40, 47.5, 0.15697162065992312], [6, 50.0, 0.7220310330356566]]"
      ]
     },
     "execution_count": 184,
     "metadata": {},
     "output_type": "execute_result"
    }
   ],
   "source": [
    "macd_results_high['AAPL']"
   ]
  },
  {
   "cell_type": "code",
   "execution_count": 181,
   "metadata": {},
   "outputs": [],
   "source": [
    "def final_result_macd(result_list):\n",
    "    totaltrades,winrate,avgprofit = 0,0,0\n",
    "    totaltrades_strict,winrate_strict,avgprofit_strict = 0,0,0\n",
    "    for i in companies:\n",
    "        totaltrades += result_list[i][0][0]\n",
    "        winrate += result_list[i][0][1]\n",
    "        avgprofit += result_list[i][0][2]\n",
    "        totaltrades_strict += result_list[i][1][0]\n",
    "        winrate_strict += result_list[i][1][1]\n",
    "        avgprofit_strict += result_list[i][1][2]\n",
    "    total = len(result_list)\n",
    "    return([totaltrades/total,winrate/total,avgprofit/total],\n",
    "           [totaltrades_strict/total,winrate_strict/total,avgprofit_strict/total])\n"
   ]
  },
  {
   "cell_type": "code",
   "execution_count": 182,
   "metadata": {
    "scrolled": false
   },
   "outputs": [
    {
     "data": {
      "text/plain": [
       "([198.07, 49.79403669277616, 0.09330117370074582],\n",
       " [64.38, 36.40355818238003, 0.18755961271833255])"
      ]
     },
     "execution_count": 182,
     "metadata": {},
     "output_type": "execute_result"
    }
   ],
   "source": [
    "final_result_macd(macd_results)"
   ]
  },
  {
   "cell_type": "code",
   "execution_count": 185,
   "metadata": {},
   "outputs": [
    {
     "data": {
      "text/plain": [
       "([42.37, 46.604881956345515, -0.22282364256074683],\n",
       " [11.2, 44.2805335230645, -0.44653356145035855])"
      ]
     },
     "execution_count": 185,
     "metadata": {},
     "output_type": "execute_result"
    }
   ],
   "source": [
    "final_result_macd(macd_results_high)\n",
    "#higher timeframe results"
   ]
  },
  {
   "cell_type": "markdown",
   "metadata": {},
   "source": [
    "### Moving average\n",
    "\n",
    "200 day MA\t\n",
    "\n",
    "Price above 200MA - Long; price below 200MA - Short"
   ]
  },
  {
   "cell_type": "code",
   "execution_count": null,
   "metadata": {},
   "outputs": [],
   "source": [
    "# Compare to 21MA to see if trade is profitable \n",
    "for i in range(len(security_price)):\n",
    "        if security_price['Close'].iloc[i] > security_price['movingavg'].iloc[i]:\n",
    "            buysell.append(1) #1 for buy \n",
    "        elif security_price['Close'].iloc[i] < security_price['movingavg'].iloc[i]:\n",
    "             buysell.append(0) #0 for sell\n",
    "        else:\n",
    "            buysell.append('NaN')\n",
    "    security_price['buy/sell'] = buysell\n",
    "    security_price['21ma'] = talib.SMA(security_price['Close'],timeperiod=21)\n",
    "    \n",
    "    tradelist = []\n",
    "    for i in range(len(security_price[:-21])):# void the last 21 trades as not enough time to measure 21MA. \n",
    "        ma = security_price['21ma'].iloc[i+21] \n",
    "        if security_price['buy/sell'].iloc[i] == 1:\n",
    "            if ma > security_price['Close'].iloc[i]:\n",
    "                winlose = 1\n",
    "            else:\n",
    "                winlose = 0\n",
    "            profit = (ma - security_price['Close'].iloc[i])/security_price['Close'].iloc[i]*100\n",
    "            tradelist.append((security_price['Date'].iloc[i], security_price['Date'].iloc[i+21], 1, winlose,profit))\n",
    "        elif security_price['buy/sell'].iloc[i] == 0:\n",
    "            if ma < security_price['Close'].iloc[i]:\n",
    "                winlose = 1\n",
    "            else:\n",
    "                winlose = 0\n",
    "            profit = (security_price['Close'].iloc[i] - ma)/ma*100\n",
    "            tradelist.append((security_price['Date'].iloc[i], security_price['Date'].iloc[i+21], 0, winlose,profit))"
   ]
  },
  {
   "cell_type": "code",
   "execution_count": 174,
   "metadata": {},
   "outputs": [],
   "source": [
    "def movingavg(security):\n",
    "    security_price = yf.download(security, period = '10y', interval='1d')\n",
    "    security_price = security_price.dropna()\n",
    "    security_price = security_price.reset_index() \n",
    "    security_price['movingavg'] = talib.SMA(security_price['Close'], timeperiod=200) #200MA\n",
    "    buysell = []\n",
    "    for i in range(len(security_price)):\n",
    "        if security_price['Close'].iloc[i] > security_price['movingavg'].iloc[i]:\n",
    "            buysell.append(1) #1 for buy \n",
    "        elif security_price['Close'].iloc[i] < security_price['movingavg'].iloc[i]:\n",
    "             buysell.append(0) #0 for sell\n",
    "        else:\n",
    "            buysell.append('NaN')\n",
    "    security_price['buy/sell'] = buysell\n",
    "    security_price['21ma'] = talib.SMA(security_price['Close'],timeperiod=21)\n",
    "    \n",
    "    tradelist = []\n",
    "    for i in range(len(security_price)):\n",
    "        if security_price['buy/sell'].iloc[i] == 1:\n",
    "            for j in range(len(security_price['buy/sell'].iloc[i:])):\n",
    "                if security_price['buy/sell'].iloc[i+j] == 0:\n",
    "                    if security_price['Close'].iloc[i+j] > security_price['Close'].iloc[i]:\n",
    "                        winlose = 1 \n",
    "                    else:\n",
    "                        winlose = 0\n",
    "                    profit = (security_price['Close'].iloc[i+j] - security_price['Close'].iloc[i])/security_price['Close'].iloc[i]*100\n",
    "                    tradelist.append((security_price['Date'].iloc[i], security_price['Date'].iloc[i+j], 1, winlose,profit))\n",
    "                    break\n",
    "        elif security_price['buy/sell'].iloc[i] == 0:\n",
    "            for j in range(len(security_price['buy/sell'].iloc[i:])):\n",
    "                if security_price['buy/sell'].iloc[i+j] == 1:\n",
    "                    if security_price['Close'].iloc[i+j] < security_price['Close'].iloc[i]:\n",
    "                        winlose = 1 \n",
    "                    else:\n",
    "                        winlose = 0\n",
    "                    profit = (security_price['Close'].iloc[i] - security_price['Close'].iloc[i+j])/security_price['Close'].iloc[i+j]*100\n",
    "                    tradelist.append((security_price['Date'].iloc[i], security_price['Date'].iloc[i+j], 0, winlose,profit))\n",
    "                    break\n",
    "    return tradelist #returns start end date of trade, long(1)/short(0), win(1)/lose(0), profit \n",
    "\n",
    "def ma_result(df):\n",
    "    results = []\n",
    "    totaltrades = len(df)\n",
    "    winrate = 0\n",
    "    avgprofit = 0\n",
    "    for i in range(len(df)):\n",
    "        winrate += df[i][3]\n",
    "        avgprofit += df[i][4]\n",
    "    winrate = winrate/totaltrades*100\n",
    "    avgprofit = avgprofit/totaltrades\n",
    "    results.append((totaltrades,winrate,avgprofit))\n",
    "    return results\n",
    "    #return total trades, win rate, avg profit\n"
   ]
  },
  {
   "cell_type": "markdown",
   "metadata": {},
   "source": [
    "### Visualize the strategy\n",
    "- Price above 200MA = Long\n",
    "- Price below 200MA = Short"
   ]
  },
  {
   "cell_type": "code",
   "execution_count": 124,
   "metadata": {},
   "outputs": [
    {
     "name": "stdout",
     "output_type": "stream",
     "text": [
      "[*********************100%***********************]  1 of 1 completed\n",
      "[*********************100%***********************]  1 of 1 completed\n",
      "[*********************100%***********************]  1 of 1 completed\n"
     ]
    },
    {
     "data": {
      "image/png": "[encoded data removed]",
      "text/plain": [
       "<Figure size 432x288 with 1 Axes>"
      ]
     },
     "metadata": {
      "needs_background": "light"
     },
     "output_type": "display_data"
    }
   ],
   "source": [
    "def MA_plot(ticker):\n",
    "    price_df = yf.download(ticker, start=\"2021-03-01\", end=\"2021-06-30\", interval='1d')\n",
    "    price_df = price_df.dropna().reset_index()\n",
    "    price_df1 = yf.download(ticker, start=\"2020-03-01\", end=\"2021-06-30\", interval='1d')\n",
    "    price_df1 = price_df1.dropna().reset_index()\n",
    "    #plot price\n",
    "    fig, ax = plt.subplots()\n",
    "    ax.plot(price_df['Date'],price_df['Close'],label = 'Price')\n",
    "    #plot 200MA\n",
    "    price_df1['MA'] = talib.SMA(price_df1['Close'], timeperiod=200)\n",
    "    price_df1 = price_df1[251:]\n",
    "    ax.plot(price_df1['Date'],price_df1['MA'],label='200 MA')\n",
    "    #plot short positions\n",
    "    avg = movingavg('AAPL')\n",
    "    avg = avg[-100:]\n",
    "    short_date = []\n",
    "    short = pd.DataFrame(columns = price_df.columns)\n",
    "    for i in range(len(avg)):\n",
    "        if avg[i][2] == 0:\n",
    "            short_date.append(avg[i][0])\n",
    "    for i in short_date:\n",
    "        short = short.append(price_df[price_df['Date']==i])\n",
    "    ax.plot(short['Date'],short['Close'], label='SHORT',lw=0,marker='v',c='r')\n",
    "    monthly = mdates.MonthLocator(interval=1)\n",
    "    ax.xaxis.set_major_locator(monthly)\n",
    "    ax.legend()\n",
    "MA_plot('AAPL')"
   ]
  },
  {
   "cell_type": "markdown",
   "metadata": {},
   "source": [
    "### Results"
   ]
  },
  {
   "cell_type": "code",
   "execution_count": 175,
   "metadata": {},
   "outputs": [
    {
     "name": "stdout",
     "output_type": "stream",
     "text": [
      "[*********************100%***********************]  1 of 1 completed\n",
      "[*********************100%***********************]  1 of 1 completed\n",
      "[*********************100%***********************]  1 of 1 completed\n",
      "[*********************100%***********************]  1 of 1 completed\n",
      "[*********************100%***********************]  1 of 1 completed\n",
      "[*********************100%***********************]  1 of 1 completed\n",
      "[*********************100%***********************]  1 of 1 completed\n",
      "[*********************100%***********************]  1 of 1 completed\n",
      "[*********************100%***********************]  1 of 1 completed\n",
      "[*********************100%***********************]  1 of 1 completed\n",
      "[*********************100%***********************]  1 of 1 completed\n",
      "[*********************100%***********************]  1 of 1 completed\n",
      "[*********************100%***********************]  1 of 1 completed\n",
      "[*********************100%***********************]  1 of 1 completed\n",
      "[*********************100%***********************]  1 of 1 completed\n",
      "[*********************100%***********************]  1 of 1 completed\n",
      "[*********************100%***********************]  1 of 1 completed\n",
      "[*********************100%***********************]  1 of 1 completed\n",
      "[*********************100%***********************]  1 of 1 completed\n",
      "[*********************100%***********************]  1 of 1 completed\n",
      "[*********************100%***********************]  1 of 1 completed\n",
      "[*********************100%***********************]  1 of 1 completed\n",
      "[*********************100%***********************]  1 of 1 completed\n",
      "[*********************100%***********************]  1 of 1 completed\n",
      "[*********************100%***********************]  1 of 1 completed\n",
      "[*********************100%***********************]  1 of 1 completed\n",
      "[*********************100%***********************]  1 of 1 completed\n",
      "[*********************100%***********************]  1 of 1 completed\n",
      "[*********************100%***********************]  1 of 1 completed\n",
      "[*********************100%***********************]  1 of 1 completed\n",
      "[*********************100%***********************]  1 of 1 completed\n",
      "[*********************100%***********************]  1 of 1 completed\n",
      "[*********************100%***********************]  1 of 1 completed\n",
      "[*********************100%***********************]  1 of 1 completed\n",
      "[*********************100%***********************]  1 of 1 completed\n",
      "[*********************100%***********************]  1 of 1 completed\n",
      "[*********************100%***********************]  1 of 1 completed\n",
      "[*********************100%***********************]  1 of 1 completed\n",
      "[*********************100%***********************]  1 of 1 completed\n",
      "[*********************100%***********************]  1 of 1 completed\n",
      "[*********************100%***********************]  1 of 1 completed\n",
      "[*********************100%***********************]  1 of 1 completed\n",
      "[*********************100%***********************]  1 of 1 completed\n",
      "[*********************100%***********************]  1 of 1 completed\n",
      "[*********************100%***********************]  1 of 1 completed\n",
      "[*********************100%***********************]  1 of 1 completed\n",
      "[*********************100%***********************]  1 of 1 completed\n",
      "[*********************100%***********************]  1 of 1 completed\n",
      "[*********************100%***********************]  1 of 1 completed\n",
      "[*********************100%***********************]  1 of 1 completed\n",
      "[*********************100%***********************]  1 of 1 completed\n",
      "[*********************100%***********************]  1 of 1 completed\n",
      "[*********************100%***********************]  1 of 1 completed\n",
      "[*********************100%***********************]  1 of 1 completed\n",
      "[*********************100%***********************]  1 of 1 completed\n",
      "[*********************100%***********************]  1 of 1 completed\n",
      "[*********************100%***********************]  1 of 1 completed\n",
      "[*********************100%***********************]  1 of 1 completed\n",
      "[*********************100%***********************]  1 of 1 completed\n",
      "[*********************100%***********************]  1 of 1 completed\n",
      "[*********************100%***********************]  1 of 1 completed\n",
      "[*********************100%***********************]  1 of 1 completed\n",
      "[*********************100%***********************]  1 of 1 completed\n",
      "[*********************100%***********************]  1 of 1 completed\n",
      "[*********************100%***********************]  1 of 1 completed\n",
      "[*********************100%***********************]  1 of 1 completed\n",
      "[*********************100%***********************]  1 of 1 completed\n",
      "[*********************100%***********************]  1 of 1 completed\n",
      "[*********************100%***********************]  1 of 1 completed\n",
      "[*********************100%***********************]  1 of 1 completed\n",
      "[*********************100%***********************]  1 of 1 completed\n",
      "[*********************100%***********************]  1 of 1 completed\n",
      "[*********************100%***********************]  1 of 1 completed\n",
      "[*********************100%***********************]  1 of 1 completed\n",
      "[*********************100%***********************]  1 of 1 completed\n",
      "[*********************100%***********************]  1 of 1 completed\n",
      "[*********************100%***********************]  1 of 1 completed\n",
      "[*********************100%***********************]  1 of 1 completed\n",
      "[*********************100%***********************]  1 of 1 completed\n",
      "[*********************100%***********************]  1 of 1 completed\n",
      "[*********************100%***********************]  1 of 1 completed\n",
      "[*********************100%***********************]  1 of 1 completed\n",
      "[*********************100%***********************]  1 of 1 completed\n",
      "[*********************100%***********************]  1 of 1 completed\n",
      "[*********************100%***********************]  1 of 1 completed\n",
      "[*********************100%***********************]  1 of 1 completed\n",
      "[*********************100%***********************]  1 of 1 completed\n",
      "[*********************100%***********************]  1 of 1 completed\n",
      "[*********************100%***********************]  1 of 1 completed\n",
      "[*********************100%***********************]  1 of 1 completed\n",
      "[*********************100%***********************]  1 of 1 completed\n",
      "[*********************100%***********************]  1 of 1 completed\n",
      "[*********************100%***********************]  1 of 1 completed\n",
      "[*********************100%***********************]  1 of 1 completed\n",
      "[*********************100%***********************]  1 of 1 completed\n",
      "[*********************100%***********************]  1 of 1 completed\n",
      "[*********************100%***********************]  1 of 1 completed\n",
      "[*********************100%***********************]  1 of 1 completed\n",
      "[*********************100%***********************]  1 of 1 completed\n",
      "[*********************100%***********************]  1 of 1 completed\n"
     ]
    }
   ],
   "source": [
    "#returns the avg trades,winrate,profits of the top 100 companies in the S&P500\n",
    "def ma_summary(companylist):\n",
    "    result_list = []\n",
    "    for i in companylist:\n",
    "        result_list.append(ma_result(movingavg(i)))\n",
    "    return result_list\n",
    "MAresult = ma_summary(companies)\n"
   ]
  },
  {
   "cell_type": "code",
   "execution_count": 176,
   "metadata": {},
   "outputs": [
    {
     "data": {
      "text/plain": [
       "(2159.17, 33.177100405464984, 4.872507761035617)"
      ]
     },
     "execution_count": 176,
     "metadata": {},
     "output_type": "execute_result"
    }
   ],
   "source": [
    "def final_result(result_list):\n",
    "    totaltrades,winrate,avgprofit = 0,0,0\n",
    "    for i in range(len(result_list)):\n",
    "        totaltrades += result_list[i][0][0]\n",
    "        winrate += result_list[i][0][1]\n",
    "        avgprofit += result_list[i][0][2]\n",
    "    total = len(result_list)\n",
    "    return(totaltrades/total,winrate/total,avgprofit/total)\n",
    "final_result(MAresult)"
   ]
  },
  {
   "cell_type": "markdown",
   "metadata": {},
   "source": [
    "### Result summary \n",
    "Strategies are backtested on the top 100 companies in the S&P500 index\n",
    "https://www.slickcharts.com/sp500"
   ]
  },
  {
   "cell_type": "code",
   "execution_count": 134,
   "metadata": {},
   "outputs": [],
   "source": [
    "companies =['AAPL','MSFT','AMZN','FB','GOOGL','GOOG','TSLA','BRK-B','NVDA','JPM','JNJ','V','UNH','PYPL','HD','PG','MA','DIS',\n",
    "            'BAC','ADBE','XOM','CMCSA','NFLX','VZ','INTC','CRM','CSCO','PFE','KO','ABT','T','PEP','CVX','TMO','NKE','ABBV',\n",
    "            'MRK','AVGO','WMT','ACN','WFC','LLY','TXN','COST','DHR','MCD','MDT','QCOM','PM','LIN','UPS','HON','BMY','UNP',\n",
    "            'NEE','C','ORCL','AMGN','LOW','MS','INTU','SBUX','AMAT','IBM','BA','RTX','GS','AMT','BLK','TGT','CAT','GE','MMM',\n",
    "            'NOW','CVS','SCHW','DE','ISRG','AMD','AXP','CHTR','SPGI','ANTM','LRCX','MU','LMT','PLD','ZTS','BKNG','FIS','MDLZ',\n",
    "            'MO','GILD','SYK','CCI','TMUS','ADP','CI','PNC','TJX']\n"
   ]
  },
  {
   "cell_type": "code",
   "execution_count": 132,
   "metadata": {},
   "outputs": [
    {
     "data": {
      "text/plain": [
       "100"
      ]
     },
     "execution_count": 132,
     "metadata": {},
     "output_type": "execute_result"
    }
   ],
   "source": []
  },
  {
   "cell_type": "code",
   "execution_count": 102,
   "metadata": {},
   "outputs": [
    {
     "name": "stdout",
     "output_type": "stream",
     "text": [
      "[*********************100%***********************]  1 of 1 completed\n"
     ]
    },
    {
     "data": {
      "text/plain": [
       "[('total_trades: 1998',\n",
       "  'winrate: 51.25125125125125',\n",
       "  'avgprofit: 11.08878543302006')]"
      ]
     },
     "execution_count": 102,
     "metadata": {},
     "output_type": "execute_result"
    }
   ],
   "source": [
    "ma_result(movingavg(\"MSFT\"))\n"
   ]
  },
  {
   "cell_type": "code",
   "execution_count": 82,
   "metadata": {},
   "outputs": [
    {
     "data": {
      "text/html": [
       "<div>\n",
       "<style scoped>\n",
       "    .dataframe tbody tr th:only-of-type {\n",
       "        vertical-align: middle;\n",
       "    }\n",
       "\n",
       "    .dataframe tbody tr th {\n",
       "        vertical-align: top;\n",
       "    }\n",
       "\n",
       "    .dataframe thead th {\n",
       "        text-align: right;\n",
       "    }\n",
       "</style>\n",
       "<table border=\"1\" class=\"dataframe\">\n",
       "  <thead>\n",
       "    <tr style=\"text-align: right;\">\n",
       "      <th></th>\n",
       "      <th>Date</th>\n",
       "      <th>Open</th>\n",
       "      <th>High</th>\n",
       "      <th>Low</th>\n",
       "      <th>Close</th>\n",
       "      <th>Adj Close</th>\n",
       "      <th>Volume</th>\n",
       "      <th>movingavg</th>\n",
       "      <th>buy/sell</th>\n",
       "    </tr>\n",
       "  </thead>\n",
       "  <tbody>\n",
       "    <tr>\n",
       "      <th>198</th>\n",
       "      <td>2012-04-10</td>\n",
       "      <td>22.854643</td>\n",
       "      <td>23.000000</td>\n",
       "      <td>22.357143</td>\n",
       "      <td>22.444286</td>\n",
       "      <td>19.299906</td>\n",
       "      <td>889725200</td>\n",
       "      <td>NaN</td>\n",
       "      <td>NaN</td>\n",
       "    </tr>\n",
       "    <tr>\n",
       "      <th>199</th>\n",
       "      <td>2012-04-11</td>\n",
       "      <td>22.721430</td>\n",
       "      <td>22.745358</td>\n",
       "      <td>22.262142</td>\n",
       "      <td>22.364286</td>\n",
       "      <td>19.231110</td>\n",
       "      <td>696614800</td>\n",
       "      <td>15.355200</td>\n",
       "      <td>1</td>\n",
       "    </tr>\n",
       "    <tr>\n",
       "      <th>200</th>\n",
       "      <td>2012-04-12</td>\n",
       "      <td>22.321428</td>\n",
       "      <td>22.547501</td>\n",
       "      <td>22.160713</td>\n",
       "      <td>22.241785</td>\n",
       "      <td>19.125774</td>\n",
       "      <td>614336800</td>\n",
       "      <td>15.407116</td>\n",
       "      <td>1</td>\n",
       "    </tr>\n",
       "    <tr>\n",
       "      <th>201</th>\n",
       "      <td>2012-04-13</td>\n",
       "      <td>22.289642</td>\n",
       "      <td>22.310715</td>\n",
       "      <td>21.553928</td>\n",
       "      <td>21.615356</td>\n",
       "      <td>18.587103</td>\n",
       "      <td>859644800</td>\n",
       "      <td>15.455325</td>\n",
       "      <td>1</td>\n",
       "    </tr>\n",
       "    <tr>\n",
       "      <th>202</th>\n",
       "      <td>2012-04-16</td>\n",
       "      <td>21.787857</td>\n",
       "      <td>21.795713</td>\n",
       "      <td>20.651787</td>\n",
       "      <td>20.718929</td>\n",
       "      <td>17.816267</td>\n",
       "      <td>1050786800</td>\n",
       "      <td>15.499270</td>\n",
       "      <td>1</td>\n",
       "    </tr>\n",
       "    <tr>\n",
       "      <th>203</th>\n",
       "      <td>2012-04-17</td>\n",
       "      <td>20.676430</td>\n",
       "      <td>21.785713</td>\n",
       "      <td>20.425358</td>\n",
       "      <td>21.775000</td>\n",
       "      <td>18.724384</td>\n",
       "      <td>1025528000</td>\n",
       "      <td>15.548204</td>\n",
       "      <td>1</td>\n",
       "    </tr>\n",
       "    <tr>\n",
       "      <th>204</th>\n",
       "      <td>2012-04-18</td>\n",
       "      <td>21.918571</td>\n",
       "      <td>22.151787</td>\n",
       "      <td>21.525356</td>\n",
       "      <td>21.726429</td>\n",
       "      <td>18.682621</td>\n",
       "      <td>954531200</td>\n",
       "      <td>15.595539</td>\n",
       "      <td>1</td>\n",
       "    </tr>\n",
       "    <tr>\n",
       "      <th>205</th>\n",
       "      <td>2012-04-19</td>\n",
       "      <td>21.436428</td>\n",
       "      <td>21.597500</td>\n",
       "      <td>20.875713</td>\n",
       "      <td>20.980000</td>\n",
       "      <td>18.040760</td>\n",
       "      <td>834719200</td>\n",
       "      <td>15.638041</td>\n",
       "      <td>1</td>\n",
       "    </tr>\n",
       "    <tr>\n",
       "      <th>206</th>\n",
       "      <td>2012-04-20</td>\n",
       "      <td>21.120714</td>\n",
       "      <td>21.236429</td>\n",
       "      <td>20.372143</td>\n",
       "      <td>20.463572</td>\n",
       "      <td>17.596685</td>\n",
       "      <td>1030985200</td>\n",
       "      <td>15.677545</td>\n",
       "      <td>1</td>\n",
       "    </tr>\n",
       "    <tr>\n",
       "      <th>207</th>\n",
       "      <td>2012-04-23</td>\n",
       "      <td>20.378929</td>\n",
       "      <td>20.595358</td>\n",
       "      <td>19.879286</td>\n",
       "      <td>20.417856</td>\n",
       "      <td>17.557369</td>\n",
       "      <td>966529200</td>\n",
       "      <td>15.715848</td>\n",
       "      <td>1</td>\n",
       "    </tr>\n",
       "  </tbody>\n",
       "</table>\n",
       "</div>"
      ],
      "text/plain": [
       "          Date       Open       High        Low      Close  Adj Close  \\\n",
       "198 2012-04-10  22.854643  23.000000  22.357143  22.444286  19.299906   \n",
       "199 2012-04-11  22.721430  22.745358  22.262142  22.364286  19.231110   \n",
       "200 2012-04-12  22.321428  22.547501  22.160713  22.241785  19.125774   \n",
       "201 2012-04-13  22.289642  22.310715  21.553928  21.615356  18.587103   \n",
       "202 2012-04-16  21.787857  21.795713  20.651787  20.718929  17.816267   \n",
       "203 2012-04-17  20.676430  21.785713  20.425358  21.775000  18.724384   \n",
       "204 2012-04-18  21.918571  22.151787  21.525356  21.726429  18.682621   \n",
       "205 2012-04-19  21.436428  21.597500  20.875713  20.980000  18.040760   \n",
       "206 2012-04-20  21.120714  21.236429  20.372143  20.463572  17.596685   \n",
       "207 2012-04-23  20.378929  20.595358  19.879286  20.417856  17.557369   \n",
       "\n",
       "         Volume  movingavg buy/sell  \n",
       "198   889725200        NaN      NaN  \n",
       "199   696614800  15.355200        1  \n",
       "200   614336800  15.407116        1  \n",
       "201   859644800  15.455325        1  \n",
       "202  1050786800  15.499270        1  \n",
       "203  1025528000  15.548204        1  \n",
       "204   954531200  15.595539        1  \n",
       "205   834719200  15.638041        1  \n",
       "206  1030985200  15.677545        1  \n",
       "207   966529200  15.715848        1  "
      ]
     },
     "execution_count": 82,
     "metadata": {},
     "output_type": "execute_result"
    }
   ],
   "source": [
    "apple.iloc[198:208]"
   ]
  },
  {
   "cell_type": "markdown",
   "metadata": {},
   "source": [
    "### Pattern recognition "
   ]
  },
  {
   "cell_type": "markdown",
   "metadata": {},
   "source": [
    "### Hammer candlestick pattern\n",
    "A hammer is a price pattern in candlestick charting that occurs when a security trades significantly lower than its opening, but rallies within the period to close near opening price. This pattern forms a hammer-shaped candlestick, in which the lower shadow is at least twice the size of the real body. Indicates a bullish reversal. "
   ]
  },
  {
   "cell_type": "code",
   "execution_count": 225,
   "metadata": {},
   "outputs": [
    {
     "name": "stdout",
     "output_type": "stream",
     "text": [
      "[*********************100%***********************]  1 of 1 completed\n"
     ]
    },
    {
     "data": {
      "text/plain": [
       "[(Timestamp('2011-09-26 00:00:00'), 0, -2.0267951265672863),\n",
       " (Timestamp('2011-11-07 00:00:00'), 0, -4.282527975171934),\n",
       " (Timestamp('2012-04-27 00:00:00'), 0, -6.4211442189455665),\n",
       " (Timestamp('2012-05-25 00:00:00'), 1, 2.196293457528648),\n",
       " (Timestamp('2012-06-22 00:00:00'), 1, 2.682244000358029),\n",
       " (Timestamp('2012-08-28 00:00:00'), 1, 0.8078576702328089),\n",
       " (Timestamp('2012-09-20 00:00:00'), 0, -6.398004239775512),\n",
       " (Timestamp('2013-04-05 00:00:00'), 1, 0.01709973423977057),\n",
       " (Timestamp('2013-08-08 00:00:00'), 1, 7.151684265333536),\n",
       " (Timestamp('2013-08-22 00:00:00'), 0, -3.9046889924863417),\n",
       " (Timestamp('2013-09-27 00:00:00'), 1, 3.786342145495922),\n",
       " (Timestamp('2013-11-01 00:00:00'), 1, 1.5495433168577724),\n",
       " (Timestamp('2013-12-18 00:00:00'), 0, -0.18095588279701977),\n",
       " (Timestamp('2014-05-09 00:00:00'), 1, 6.0591966844036085),\n",
       " (Timestamp('2014-08-08 00:00:00'), 1, 5.141392313186006),\n",
       " (Timestamp('2015-05-06 00:00:00'), 1, 3.4355323903627335),\n",
       " (Timestamp('2015-10-01 00:00:00'), 1, 3.6137962478450083),\n",
       " (Timestamp('2015-10-08 00:00:00'), 1, 6.080452258961691),\n",
       " (Timestamp('2015-12-14 00:00:00'), 0, -7.126349688860296),\n",
       " (Timestamp('2016-05-06 00:00:00'), 1, 3.6022412752809165),\n",
       " (Timestamp('2016-05-19 00:00:00'), 1, 4.0789643979395125),\n",
       " (Timestamp('2016-06-02 00:00:00'), 0, -1.3020692637420919),\n",
       " (Timestamp('2016-07-05 00:00:00'), 1, 5.10229420009077),\n",
       " (Timestamp('2016-10-21 00:00:00'), 0, -4.5127819389801465),\n",
       " (Timestamp('2016-11-23 00:00:00'), 1, 1.8832672001902422),\n",
       " (Timestamp('2017-03-09 00:00:00'), 1, 2.278289774829369),\n",
       " (Timestamp('2017-05-16 00:00:00'), 0, -2.3330201161095596),\n",
       " (Timestamp('2017-06-15 00:00:00'), 1, 0.7125240310617671),\n",
       " (Timestamp('2017-07-21 00:00:00'), 1, 3.748171842468256),\n",
       " (Timestamp('2018-05-08 00:00:00'), 1, 1.5351715091885179),\n",
       " (Timestamp('2018-05-15 00:00:00'), 1, 1.7347579265737612),\n",
       " (Timestamp('2018-11-05 00:00:00'), 0, -7.381788923869016),\n",
       " (Timestamp('2018-11-09 00:00:00'), 0, -12.199717113245669),\n",
       " (Timestamp('2019-04-26 00:00:00'), 0, -4.842320424927202),\n",
       " (Timestamp('2019-11-06 00:00:00'), 1, 2.6345650322426426),\n",
       " (Timestamp('2019-11-08 00:00:00'), 1, 1.780172405028397),\n",
       " (Timestamp('2019-12-03 00:00:00'), 1, 7.942802507015748),\n",
       " (Timestamp('2020-01-23 00:00:00'), 0, -0.21823716472428112),\n",
       " (Timestamp('2020-03-23 00:00:00'), 1, 17.291592846402885),\n",
       " (Timestamp('2020-05-27 00:00:00'), 1, 7.236344871165791),\n",
       " (Timestamp('2020-11-13 00:00:00'), 1, 1.0437357959663185),\n",
       " (Timestamp('2021-02-08 00:00:00'), 0, -7.519367279235559),\n",
       " (Timestamp('2021-03-12 00:00:00'), 1, 3.010273649850533),\n",
       " (Timestamp('2021-05-17 00:00:00'), 1, 0.13651957518053065)]"
      ]
     },
     "execution_count": 225,
     "metadata": {},
     "output_type": "execute_result"
    }
   ],
   "source": [
    "# Hammer (0 = not hammer, 100= hammer)\n",
    "def hammer(security):\n",
    "    security_price = yf.download(security, period = '10y', interval='1d')\n",
    "    security_price = security_price.dropna().reset_index()\n",
    "    security_price['21ma'] = talib.SMA(security_price['Close'],timeperiod=21) \n",
    "    hammer_list = talib.CDLHAMMER(security_price['Open'], security_price['High'], security_price['Low'], security_price['Close'])\n",
    "    tradelist = []\n",
    "    for i in range(len(security_price[:-21])): # void the last 21 trades as not enough time to measure 21MA. \n",
    "        if hammer_list[i] == 100:\n",
    "            ma = security_price['21ma'].iloc[i+21]\n",
    "            if ma > security_price['Close'].iloc[i]:\n",
    "                winlose = 1\n",
    "            else:\n",
    "                winlose = 0\n",
    "            date = security_price['Date'].iloc[i]\n",
    "            profit = (ma-security_price['Close'].iloc[i])/security_price['Close'].iloc[i]*100\n",
    "            tradelist.append((date,winlose,profit))\n",
    "    return tradelist\n",
    "            \n",
    "abc = hammer('AAPL')\n",
    "abc"
   ]
  },
  {
   "cell_type": "markdown",
   "metadata": {},
   "source": [
    "### Visualize the strategy"
   ]
  },
  {
   "cell_type": "code",
   "execution_count": 270,
   "metadata": {},
   "outputs": [
    {
     "name": "stdout",
     "output_type": "stream",
     "text": [
      "[*********************100%***********************]  1 of 1 completed\n"
     ]
    },
    {
     "data": {
      "application/vnd.plotly.v1+json": {
       "config": {
        "plotlyServerURL": "https://plot.ly"
       },
       "data": [
        {
         "close": [
          134.13999938964844,
          134.99000549316406,
          133.94000244140625,
          137.38999938964844,
          136.75999450683594,
          136.91000366210938,
          136.00999450683594,
          135.38999938964844,
          135.1300048828125,
          135.3699951171875,
          133.19000244140625,
          130.83999633789062,
          129.7100067138672,
          129.8699951171875,
          126,
          125.86000061035156,
          125.3499984741211,
          120.98999786376953,
          121.26000213623047,
          127.79000091552734,
          125.12000274658203,
          122.05999755859375,
          120.12999725341797,
          121.41999816894531,
          116.36000061035156,
          121.08999633789062,
          119.9800033569336,
          121.95999908447266,
          121.02999877929688,
          123.98999786376953,
          125.56999969482422,
          124.76000213623047,
          120.52999877929688,
          119.98999786376953,
          123.38999938964844,
          122.54000091552734,
          120.08999633789062,
          120.58999633789062,
          121.20999908447266,
          121.38999938964844,
          119.9000015258789,
          122.1500015258789,
          123,
          125.9000015258789,
          126.20999908447266,
          127.9000015258789,
          130.36000061035156,
          133,
          131.24000549316406,
          134.42999267578125,
          132.02999877929688,
          134.5,
          134.16000366210938,
          134.83999633789062,
          133.11000061035156,
          133.5,
          131.94000244140625,
          134.32000732421875,
          134.72000122070312,
          134.38999938964844,
          133.5800018310547,
          133.47999572753906,
          131.4600067138672,
          132.5399932861328,
          127.8499984741211,
          128.10000610351562,
          129.74000549316406,
          130.2100067138672,
          126.8499984741211,
          125.91000366210938,
          122.7699966430664,
          124.97000122070312,
          127.44999694824219,
          126.2699966430664,
          124.8499984741211,
          124.69000244140625,
          127.30999755859375,
          125.43000030517578,
          127.0999984741211,
          126.9000015258789,
          126.8499984741211,
          125.27999877929688,
          124.61000061035156
         ],
         "high": [
          135.3800048828125,
          136.30999755859375,
          135.77000427246094,
          137.39999389648438,
          137.4199981689453,
          136.9600067138672,
          137.8800048828125,
          136.99000549316406,
          136.38999938964844,
          135.52999877929688,
          136.00999450683594,
          132.22000122070312,
          130,
          130.7100067138672,
          129.72000122070312,
          126.70999908447266,
          125.55999755859375,
          126.45999908447266,
          124.8499984741211,
          127.93000030517578,
          128.72000122070312,
          125.70999908447266,
          123.5999984741211,
          121.94000244140625,
          121,
          122.05999755859375,
          122.16999816894531,
          123.20999908447266,
          121.16999816894531,
          124,
          127.22000122070312,
          125.86000061035156,
          123.18000030517578,
          121.43000030517578,
          123.87000274658203,
          124.23999786376953,
          122.9000015258789,
          121.66000366210938,
          121.4800033569336,
          122.58000183105469,
          120.4000015258789,
          123.5199966430664,
          124.18000030517578,
          126.16000366210938,
          127.12999725341797,
          127.91999816894531,
          130.38999938964844,
          133.0399932861328,
          132.85000610351562,
          134.66000366210938,
          135,
          135,
          134.6699981689453,
          135.47000122070312,
          135.52999877929688,
          133.75,
          134.14999389648438,
          135.1199951171875,
          135.05999755859375,
          135.41000366210938,
          135.02000427246094,
          137.07000732421875,
          133.55999755859375,
          134.07000732421875,
          131.49000549316406,
          130.4499969482422,
          129.75,
          131.25999450683594,
          129.5399932861328,
          126.2699966430664,
          124.63999938964844,
          126.1500015258789,
          127.88999938964844,
          126.93000030517578,
          126.98999786376953,
          124.91999816894531,
          127.72000122070312,
          128,
          127.94000244140625,
          128.32000732421875,
          127.38999938964844,
          127.63999938964844,
          125.80000305175781
         ],
         "low": [
          130.92999267578125,
          134.61000061035156,
          133.61000061035156,
          134.58999633789062,
          135.86000061035156,
          134.9199981689453,
          135.85000610351562,
          134.39999389648438,
          133.77000427246094,
          133.69000244140625,
          132.7899932861328,
          129.47000122070312,
          127.41000366210938,
          128.8000030517578,
          125.5999984741211,
          118.38999938964844,
          122.2300033569336,
          120.54000091552734,
          121.19999694824219,
          122.79000091552734,
          125.01000213623047,
          121.83999633789062,
          118.62000274658203,
          117.56999969482422,
          116.20999908447266,
          118.79000091552734,
          119.44999694824219,
          121.26000213623047,
          119.16000366210938,
          120.41999816894531,
          124.72000122070312,
          122.33999633789062,
          120.31999969482422,
          119.68000030517578,
          120.26000213623047,
          122.13999938964844,
          120.06999969482422,
          119,
          118.91999816894531,
          120.7300033569336,
          118.86000061035156,
          121.1500015258789,
          122.48999786376953,
          123.06999969482422,
          125.6500015258789,
          125.13999938964844,
          128.52000427246094,
          129.47000122070312,
          130.6300048828125,
          131.92999267578125,
          131.66000366210938,
          133.63999938964844,
          133.27999877929688,
          133.33999633789062,
          131.80999755859375,
          131.3000030517578,
          131.41000366210938,
          132.16000366210938,
          133.55999755859375,
          134.11000061035156,
          133.0800018310547,
          132.4499969482422,
          131.07000732421875,
          131.8300018310547,
          126.69999694824219,
          127.97000122070312,
          127.12999725341797,
          129.47999572753906,
          126.80999755859375,
          122.7699966430664,
          122.25,
          124.26000213623047,
          125.8499984741211,
          125.16999816894531,
          124.77999877929688,
          122.86000061035156,
          125.0999984741211,
          125.20999908447266,
          125.94000244140625,
          126.31999969482422,
          126.41999816894531,
          125.08000183105469,
          124.55000305175781
         ],
         "open": [
          133.75,
          135.72999572753906,
          135.75999450683594,
          136.3000030517578,
          137.35000610351562,
          136.02999877929688,
          136.6199951171875,
          136.47999572753906,
          135.89999389648438,
          134.35000610351562,
          135.49000549316406,
          131.25,
          129.1999969482422,
          130.24000549316406,
          128.00999450683594,
          123.76000213623047,
          124.94000244140625,
          124.68000030517578,
          122.58999633789062,
          123.75,
          128.41000366210938,
          124.80999755859375,
          121.75,
          120.9800033569336,
          120.93000030517578,
          119.02999877929688,
          121.69000244140625,
          122.54000091552734,
          120.4000015258789,
          121.41000366210938,
          125.69999694824219,
          124.05000305175781,
          122.87999725341797,
          119.9000015258789,
          120.33000183105469,
          123.33000183105469,
          122.81999969482422,
          119.54000091552734,
          120.3499984741211,
          121.6500015258789,
          120.11000061035156,
          121.6500015258789,
          123.66000366210938,
          123.87000274658203,
          126.5,
          125.83000183105469,
          128.9499969482422,
          129.8000030517578,
          132.52000427246094,
          132.44000244140625,
          134.94000244140625,
          133.82000732421875,
          134.3000030517578,
          133.50999450683594,
          135.02000427246094,
          132.36000061035156,
          133.0399932861328,
          132.16000366210938,
          134.8300018310547,
          135.00999450683594,
          134.30999755859375,
          136.47000122070312,
          131.77999877929688,
          132.0399932861328,
          131.19000244140625,
          129.1999969482422,
          127.88999938964844,
          130.85000610351562,
          129.41000366210938,
          123.5,
          123.4000015258789,
          124.58000183105469,
          126.25,
          126.81999969482422,
          126.55999755859375,
          123.16000366210938,
          125.2300033569336,
          127.81999969482422,
          126.01000213623047,
          127.81999969482422,
          126.95999908447266,
          126.44000244140625,
          125.56999969482422
         ],
         "type": "candlestick",
         "x": [
          "2021-02-01T00:00:00",
          "2021-02-02T00:00:00",
          "2021-02-03T00:00:00",
          "2021-02-04T00:00:00",
          "2021-02-05T00:00:00",
          "2021-02-08T00:00:00",
          "2021-02-09T00:00:00",
          "2021-02-10T00:00:00",
          "2021-02-11T00:00:00",
          "2021-02-12T00:00:00",
          "2021-02-16T00:00:00",
          "2021-02-17T00:00:00",
          "2021-02-18T00:00:00",
          "2021-02-19T00:00:00",
          "2021-02-22T00:00:00",
          "2021-02-23T00:00:00",
          "2021-02-24T00:00:00",
          "2021-02-25T00:00:00",
          "2021-02-26T00:00:00",
          "2021-03-01T00:00:00",
          "2021-03-02T00:00:00",
          "2021-03-03T00:00:00",
          "2021-03-04T00:00:00",
          "2021-03-05T00:00:00",
          "2021-03-08T00:00:00",
          "2021-03-09T00:00:00",
          "2021-03-10T00:00:00",
          "2021-03-11T00:00:00",
          "2021-03-12T00:00:00",
          "2021-03-15T00:00:00",
          "2021-03-16T00:00:00",
          "2021-03-17T00:00:00",
          "2021-03-18T00:00:00",
          "2021-03-19T00:00:00",
          "2021-03-22T00:00:00",
          "2021-03-23T00:00:00",
          "2021-03-24T00:00:00",
          "2021-03-25T00:00:00",
          "2021-03-26T00:00:00",
          "2021-03-29T00:00:00",
          "2021-03-30T00:00:00",
          "2021-03-31T00:00:00",
          "2021-04-01T00:00:00",
          "2021-04-05T00:00:00",
          "2021-04-06T00:00:00",
          "2021-04-07T00:00:00",
          "2021-04-08T00:00:00",
          "2021-04-09T00:00:00",
          "2021-04-12T00:00:00",
          "2021-04-13T00:00:00",
          "2021-04-14T00:00:00",
          "2021-04-15T00:00:00",
          "2021-04-16T00:00:00",
          "2021-04-19T00:00:00",
          "2021-04-20T00:00:00",
          "2021-04-21T00:00:00",
          "2021-04-22T00:00:00",
          "2021-04-23T00:00:00",
          "2021-04-26T00:00:00",
          "2021-04-27T00:00:00",
          "2021-04-28T00:00:00",
          "2021-04-29T00:00:00",
          "2021-04-30T00:00:00",
          "2021-05-03T00:00:00",
          "2021-05-04T00:00:00",
          "2021-05-05T00:00:00",
          "2021-05-06T00:00:00",
          "2021-05-07T00:00:00",
          "2021-05-10T00:00:00",
          "2021-05-11T00:00:00",
          "2021-05-12T00:00:00",
          "2021-05-13T00:00:00",
          "2021-05-14T00:00:00",
          "2021-05-17T00:00:00",
          "2021-05-18T00:00:00",
          "2021-05-19T00:00:00",
          "2021-05-20T00:00:00",
          "2021-05-21T00:00:00",
          "2021-05-24T00:00:00",
          "2021-05-25T00:00:00",
          "2021-05-26T00:00:00",
          "2021-05-27T00:00:00",
          "2021-05-28T00:00:00"
         ]
        }
       ],
       "layout": {
        "annotations": [
         {
          "arrowcolor": "blue",
          "font": {
           "color": "blue",
           "size": 15
          },
          "showarrow": true,
          "text": "hammer",
          "x": "2021-02-08",
          "y": 136.91000366210938
         },
         {
          "arrowcolor": "blue",
          "font": {
           "color": "blue",
           "size": 15
          },
          "showarrow": true,
          "text": "hammer",
          "x": "2021-03-12",
          "y": 121.02999877929688
         },
         {
          "arrowcolor": "blue",
          "font": {
           "color": "blue",
           "size": 15
          },
          "showarrow": true,
          "text": "hammer",
          "x": "2021-05-17 ",
          "y": 126.2699966430664
         }
        ],
        "template": {
         "data": {
          "bar": [
           {
            "error_x": {
             "color": "#2a3f5f"
            },
            "error_y": {
             "color": "#2a3f5f"
            },
            "marker": {
             "line": {
              "color": "#E5ECF6",
              "width": 0.5
             }
            },
            "type": "bar"
           }
          ],
          "barpolar": [
           {
            "marker": {
             "line": {
              "color": "#E5ECF6",
              "width": 0.5
             }
            },
            "type": "barpolar"
           }
          ],
          "carpet": [
           {
            "aaxis": {
             "endlinecolor": "#2a3f5f",
             "gridcolor": "white",
             "linecolor": "white",
             "minorgridcolor": "white",
             "startlinecolor": "#2a3f5f"
            },
            "baxis": {
             "endlinecolor": "#2a3f5f",
             "gridcolor": "white",
             "linecolor": "white",
             "minorgridcolor": "white",
             "startlinecolor": "#2a3f5f"
            },
            "type": "carpet"
           }
          ],
          "choropleth": [
           {
            "colorbar": {
             "outlinewidth": 0,
             "ticks": ""
            },
            "type": "choropleth"
           }
          ],
          "contour": [
           {
            "colorbar": {
             "outlinewidth": 0,
             "ticks": ""
            },
            "colorscale": [
             [
              0,
              "#0d0887"
             ],
             [
              0.1111111111111111,
              "#46039f"
             ],
             [
              0.2222222222222222,
              "#7201a8"
             ],
             [
              0.3333333333333333,
              "#9c179e"
             ],
             [
              0.4444444444444444,
              "#bd3786"
             ],
             [
              0.5555555555555556,
              "#d8576b"
             ],
             [
              0.6666666666666666,
              "#ed7953"
             ],
             [
              0.7777777777777778,
              "#fb9f3a"
             ],
             [
              0.8888888888888888,
              "#fdca26"
             ],
             [
              1,
              "#f0f921"
             ]
            ],
            "type": "contour"
           }
          ],
          "contourcarpet": [
           {
            "colorbar": {
             "outlinewidth": 0,
             "ticks": ""
            },
            "type": "contourcarpet"
           }
          ],
          "heatmap": [
           {
            "colorbar": {
             "outlinewidth": 0,
             "ticks": ""
            },
            "colorscale": [
             [
              0,
              "#0d0887"
             ],
             [
              0.1111111111111111,
              "#46039f"
             ],
             [
              0.2222222222222222,
              "#7201a8"
             ],
             [
              0.3333333333333333,
              "#9c179e"
             ],
             [
              0.4444444444444444,
              "#bd3786"
             ],
             [
              0.5555555555555556,
              "#d8576b"
             ],
             [
              0.6666666666666666,
              "#ed7953"
             ],
             [
              0.7777777777777778,
              "#fb9f3a"
             ],
             [
              0.8888888888888888,
              "#fdca26"
             ],
             [
              1,
              "#f0f921"
             ]
            ],
            "type": "heatmap"
           }
          ],
          "heatmapgl": [
           {
            "colorbar": {
             "outlinewidth": 0,
             "ticks": ""
            },
            "colorscale": [
             [
              0,
              "#0d0887"
             ],
             [
              0.1111111111111111,
              "#46039f"
             ],
             [
              0.2222222222222222,
              "#7201a8"
             ],
             [
              0.3333333333333333,
              "#9c179e"
             ],
             [
              0.4444444444444444,
              "#bd3786"
             ],
             [
              0.5555555555555556,
              "#d8576b"
             ],
             [
              0.6666666666666666,
              "#ed7953"
             ],
             [
              0.7777777777777778,
              "#fb9f3a"
             ],
             [
              0.8888888888888888,
              "#fdca26"
             ],
             [
              1,
              "#f0f921"
             ]
            ],
            "type": "heatmapgl"
           }
          ],
          "histogram": [
           {
            "marker": {
             "colorbar": {
              "outlinewidth": 0,
              "ticks": ""
             }
            },
            "type": "histogram"
           }
          ],
          "histogram2d": [
           {
            "colorbar": {
             "outlinewidth": 0,
             "ticks": ""
            },
            "colorscale": [
             [
              0,
              "#0d0887"
             ],
             [
              0.1111111111111111,
              "#46039f"
             ],
             [
              0.2222222222222222,
              "#7201a8"
             ],
             [
              0.3333333333333333,
              "#9c179e"
             ],
             [
              0.4444444444444444,
              "#bd3786"
             ],
             [
              0.5555555555555556,
              "#d8576b"
             ],
             [
              0.6666666666666666,
              "#ed7953"
             ],
             [
              0.7777777777777778,
              "#fb9f3a"
             ],
             [
              0.8888888888888888,
              "#fdca26"
             ],
             [
              1,
              "#f0f921"
             ]
            ],
            "type": "histogram2d"
           }
          ],
          "histogram2dcontour": [
           {
            "colorbar": {
             "outlinewidth": 0,
             "ticks": ""
            },
            "colorscale": [
             [
              0,
              "#0d0887"
             ],
             [
              0.1111111111111111,
              "#46039f"
             ],
             [
              0.2222222222222222,
              "#7201a8"
             ],
             [
              0.3333333333333333,
              "#9c179e"
             ],
             [
              0.4444444444444444,
              "#bd3786"
             ],
             [
              0.5555555555555556,
              "#d8576b"
             ],
             [
              0.6666666666666666,
              "#ed7953"
             ],
             [
              0.7777777777777778,
              "#fb9f3a"
             ],
             [
              0.8888888888888888,
              "#fdca26"
             ],
             [
              1,
              "#f0f921"
             ]
            ],
            "type": "histogram2dcontour"
           }
          ],
          "mesh3d": [
           {
            "colorbar": {
             "outlinewidth": 0,
             "ticks": ""
            },
            "type": "mesh3d"
           }
          ],
          "parcoords": [
           {
            "line": {
             "colorbar": {
              "outlinewidth": 0,
              "ticks": ""
             }
            },
            "type": "parcoords"
           }
          ],
          "pie": [
           {
            "automargin": true,
            "type": "pie"
           }
          ],
          "scatter": [
           {
            "marker": {
             "colorbar": {
              "outlinewidth": 0,
              "ticks": ""
             }
            },
            "type": "scatter"
           }
          ],
          "scatter3d": [
           {
            "line": {
             "colorbar": {
              "outlinewidth": 0,
              "ticks": ""
             }
            },
            "marker": {
             "colorbar": {
              "outlinewidth": 0,
              "ticks": ""
             }
            },
            "type": "scatter3d"
           }
          ],
          "scattercarpet": [
           {
            "marker": {
             "colorbar": {
              "outlinewidth": 0,
              "ticks": ""
             }
            },
            "type": "scattercarpet"
           }
          ],
          "scattergeo": [
           {
            "marker": {
             "colorbar": {
              "outlinewidth": 0,
              "ticks": ""
             }
            },
            "type": "scattergeo"
           }
          ],
          "scattergl": [
           {
            "marker": {
             "colorbar": {
              "outlinewidth": 0,
              "ticks": ""
             }
            },
            "type": "scattergl"
           }
          ],
          "scattermapbox": [
           {
            "marker": {
             "colorbar": {
              "outlinewidth": 0,
              "ticks": ""
             }
            },
            "type": "scattermapbox"
           }
          ],
          "scatterpolar": [
           {
            "marker": {
             "colorbar": {
              "outlinewidth": 0,
              "ticks": ""
             }
            },
            "type": "scatterpolar"
           }
          ],
          "scatterpolargl": [
           {
            "marker": {
             "colorbar": {
              "outlinewidth": 0,
              "ticks": ""
             }
            },
            "type": "scatterpolargl"
           }
          ],
          "scatterternary": [
           {
            "marker": {
             "colorbar": {
              "outlinewidth": 0,
              "ticks": ""
             }
            },
            "type": "scatterternary"
           }
          ],
          "surface": [
           {
            "colorbar": {
             "outlinewidth": 0,
             "ticks": ""
            },
            "colorscale": [
             [
              0,
              "#0d0887"
             ],
             [
              0.1111111111111111,
              "#46039f"
             ],
             [
              0.2222222222222222,
              "#7201a8"
             ],
             [
              0.3333333333333333,
              "#9c179e"
             ],
             [
              0.4444444444444444,
              "#bd3786"
             ],
             [
              0.5555555555555556,
              "#d8576b"
             ],
             [
              0.6666666666666666,
              "#ed7953"
             ],
             [
              0.7777777777777778,
              "#fb9f3a"
             ],
             [
              0.8888888888888888,
              "#fdca26"
             ],
             [
              1,
              "#f0f921"
             ]
            ],
            "type": "surface"
           }
          ],
          "table": [
           {
            "cells": {
             "fill": {
              "color": "#EBF0F8"
             },
             "line": {
              "color": "white"
             }
            },
            "header": {
             "fill": {
              "color": "#C8D4E3"
             },
             "line": {
              "color": "white"
             }
            },
            "type": "table"
           }
          ]
         },
         "layout": {
          "annotationdefaults": {
           "arrowcolor": "#2a3f5f",
           "arrowhead": 0,
           "arrowwidth": 1
          },
          "autotypenumbers": "strict",
          "coloraxis": {
           "colorbar": {
            "outlinewidth": 0,
            "ticks": ""
           }
          },
          "colorscale": {
           "diverging": [
            [
             0,
             "#8e0152"
            ],
            [
             0.1,
             "#c51b7d"
            ],
            [
             0.2,
             "#de77ae"
            ],
            [
             0.3,
             "#f1b6da"
            ],
            [
             0.4,
             "#fde0ef"
            ],
            [
             0.5,
             "#f7f7f7"
            ],
            [
             0.6,
             "#e6f5d0"
            ],
            [
             0.7,
             "#b8e186"
            ],
            [
             0.8,
             "#7fbc41"
            ],
            [
             0.9,
             "#4d9221"
            ],
            [
             1,
             "#276419"
            ]
           ],
           "sequential": [
            [
             0,
             "#0d0887"
            ],
            [
             0.1111111111111111,
             "#46039f"
            ],
            [
             0.2222222222222222,
             "#7201a8"
            ],
            [
             0.3333333333333333,
             "#9c179e"
            ],
            [
             0.4444444444444444,
             "#bd3786"
            ],
            [
             0.5555555555555556,
             "#d8576b"
            ],
            [
             0.6666666666666666,
             "#ed7953"
            ],
            [
             0.7777777777777778,
             "#fb9f3a"
            ],
            [
             0.8888888888888888,
             "#fdca26"
            ],
            [
             1,
             "#f0f921"
            ]
           ],
           "sequentialminus": [
            [
             0,
             "#0d0887"
            ],
            [
             0.1111111111111111,
             "#46039f"
            ],
            [
             0.2222222222222222,
             "#7201a8"
            ],
            [
             0.3333333333333333,
             "#9c179e"
            ],
            [
             0.4444444444444444,
             "#bd3786"
            ],
            [
             0.5555555555555556,
             "#d8576b"
            ],
            [
             0.6666666666666666,
             "#ed7953"
            ],
            [
             0.7777777777777778,
             "#fb9f3a"
            ],
            [
             0.8888888888888888,
             "#fdca26"
            ],
            [
             1,
             "#f0f921"
            ]
           ]
          },
          "colorway": [
           "#636efa",
           "#EF553B",
           "#00cc96",
           "#ab63fa",
           "#FFA15A",
           "#19d3f3",
           "#FF6692",
           "#B6E880",
           "#FF97FF",
           "#FECB52"
          ],
          "font": {
           "color": "#2a3f5f"
          },
          "geo": {
           "bgcolor": "white",
           "lakecolor": "white",
           "landcolor": "#E5ECF6",
           "showlakes": true,
           "showland": true,
           "subunitcolor": "white"
          },
          "hoverlabel": {
           "align": "left"
          },
          "hovermode": "closest",
          "mapbox": {
           "style": "light"
          },
          "paper_bgcolor": "white",
          "plot_bgcolor": "#E5ECF6",
          "polar": {
           "angularaxis": {
            "gridcolor": "white",
            "linecolor": "white",
            "ticks": ""
           },
           "bgcolor": "#E5ECF6",
           "radialaxis": {
            "gridcolor": "white",
            "linecolor": "white",
            "ticks": ""
           }
          },
          "scene": {
           "xaxis": {
            "backgroundcolor": "#E5ECF6",
            "gridcolor": "white",
            "gridwidth": 2,
            "linecolor": "white",
            "showbackground": true,
            "ticks": "",
            "zerolinecolor": "white"
           },
           "yaxis": {
            "backgroundcolor": "#E5ECF6",
            "gridcolor": "white",
            "gridwidth": 2,
            "linecolor": "white",
            "showbackground": true,
            "ticks": "",
            "zerolinecolor": "white"
           },
           "zaxis": {
            "backgroundcolor": "#E5ECF6",
            "gridcolor": "white",
            "gridwidth": 2,
            "linecolor": "white",
            "showbackground": true,
            "ticks": "",
            "zerolinecolor": "white"
           }
          },
          "shapedefaults": {
           "line": {
            "color": "#2a3f5f"
           }
          },
          "ternary": {
           "aaxis": {
            "gridcolor": "white",
            "linecolor": "white",
            "ticks": ""
           },
           "baxis": {
            "gridcolor": "white",
            "linecolor": "white",
            "ticks": ""
           },
           "bgcolor": "#E5ECF6",
           "caxis": {
            "gridcolor": "white",
            "linecolor": "white",
            "ticks": ""
           }
          },
          "title": {
           "x": 0.05
          },
          "xaxis": {
           "automargin": true,
           "gridcolor": "white",
           "linecolor": "white",
           "ticks": "",
           "title": {
            "standoff": 15
           },
           "zerolinecolor": "white",
           "zerolinewidth": 2
          },
          "yaxis": {
           "automargin": true,
           "gridcolor": "white",
           "linecolor": "white",
           "ticks": "",
           "title": {
            "standoff": 15
           },
           "zerolinecolor": "white",
           "zerolinewidth": 2
          }
         }
        },
        "xaxis": {
         "rangeslider": {
          "visible": false
         }
        }
       }
      },
      "text/html": [
       "<div>                            <div id=\"c6da78df-aebf-49a8-a7ad-52925d9ce2b6\" class=\"plotly-graph-div\" style=\"height:525px; width:100%;\"></div>            <script type=\"text/javascript\">                require([\"plotly\"], function(Plotly) {                    window.PLOTLYENV=window.PLOTLYENV || {};                                    if (document.getElementById(\"c6da78df-aebf-49a8-a7ad-52925d9ce2b6\")) {                    Plotly.newPlot(                        \"c6da78df-aebf-49a8-a7ad-52925d9ce2b6\",                        [{\"close\": [134.13999938964844, 134.99000549316406, 133.94000244140625, 137.38999938964844, 136.75999450683594, 136.91000366210938, 136.00999450683594, 135.38999938964844, 135.1300048828125, 135.3699951171875, 133.19000244140625, 130.83999633789062, 129.7100067138672, 129.8699951171875, 126.0, 125.86000061035156, 125.3499984741211, 120.98999786376953, 121.26000213623047, 127.79000091552734, 125.12000274658203, 122.05999755859375, 120.12999725341797, 121.41999816894531, 116.36000061035156, 121.08999633789062, 119.9800033569336, 121.95999908447266, 121.02999877929688, 123.98999786376953, 125.56999969482422, 124.76000213623047, 120.52999877929688, 119.98999786376953, 123.38999938964844, 122.54000091552734, 120.08999633789062, 120.58999633789062, 121.20999908447266, 121.38999938964844, 119.9000015258789, 122.1500015258789, 123.0, 125.9000015258789, 126.20999908447266, 127.9000015258789, 130.36000061035156, 133.0, 131.24000549316406, 134.42999267578125, 132.02999877929688, 134.5, 134.16000366210938, 134.83999633789062, 133.11000061035156, 133.5, 131.94000244140625, 134.32000732421875, 134.72000122070312, 134.38999938964844, 133.5800018310547, 133.47999572753906, 131.4600067138672, 132.5399932861328, 127.8499984741211, 128.10000610351562, 129.74000549316406, 130.2100067138672, 126.8499984741211, 125.91000366210938, 122.7699966430664, 124.97000122070312, 127.44999694824219, 126.2699966430664, 124.8499984741211, 124.69000244140625, 127.30999755859375, 125.43000030517578, 127.0999984741211, 126.9000015258789, 126.8499984741211, 125.27999877929688, 124.61000061035156], \"high\": [135.3800048828125, 136.30999755859375, 135.77000427246094, 137.39999389648438, 137.4199981689453, 136.9600067138672, 137.8800048828125, 136.99000549316406, 136.38999938964844, 135.52999877929688, 136.00999450683594, 132.22000122070312, 130.0, 130.7100067138672, 129.72000122070312, 126.70999908447266, 125.55999755859375, 126.45999908447266, 124.8499984741211, 127.93000030517578, 128.72000122070312, 125.70999908447266, 123.5999984741211, 121.94000244140625, 121.0, 122.05999755859375, 122.16999816894531, 123.20999908447266, 121.16999816894531, 124.0, 127.22000122070312, 125.86000061035156, 123.18000030517578, 121.43000030517578, 123.87000274658203, 124.23999786376953, 122.9000015258789, 121.66000366210938, 121.4800033569336, 122.58000183105469, 120.4000015258789, 123.5199966430664, 124.18000030517578, 126.16000366210938, 127.12999725341797, 127.91999816894531, 130.38999938964844, 133.0399932861328, 132.85000610351562, 134.66000366210938, 135.0, 135.0, 134.6699981689453, 135.47000122070312, 135.52999877929688, 133.75, 134.14999389648438, 135.1199951171875, 135.05999755859375, 135.41000366210938, 135.02000427246094, 137.07000732421875, 133.55999755859375, 134.07000732421875, 131.49000549316406, 130.4499969482422, 129.75, 131.25999450683594, 129.5399932861328, 126.2699966430664, 124.63999938964844, 126.1500015258789, 127.88999938964844, 126.93000030517578, 126.98999786376953, 124.91999816894531, 127.72000122070312, 128.0, 127.94000244140625, 128.32000732421875, 127.38999938964844, 127.63999938964844, 125.80000305175781], \"low\": [130.92999267578125, 134.61000061035156, 133.61000061035156, 134.58999633789062, 135.86000061035156, 134.9199981689453, 135.85000610351562, 134.39999389648438, 133.77000427246094, 133.69000244140625, 132.7899932861328, 129.47000122070312, 127.41000366210938, 128.8000030517578, 125.5999984741211, 118.38999938964844, 122.2300033569336, 120.54000091552734, 121.19999694824219, 122.79000091552734, 125.01000213623047, 121.83999633789062, 118.62000274658203, 117.56999969482422, 116.20999908447266, 118.79000091552734, 119.44999694824219, 121.26000213623047, 119.16000366210938, 120.41999816894531, 124.72000122070312, 122.33999633789062, 120.31999969482422, 119.68000030517578, 120.26000213623047, 122.13999938964844, 120.06999969482422, 119.0, 118.91999816894531, 120.7300033569336, 118.86000061035156, 121.1500015258789, 122.48999786376953, 123.06999969482422, 125.6500015258789, 125.13999938964844, 128.52000427246094, 129.47000122070312, 130.6300048828125, 131.92999267578125, 131.66000366210938, 133.63999938964844, 133.27999877929688, 133.33999633789062, 131.80999755859375, 131.3000030517578, 131.41000366210938, 132.16000366210938, 133.55999755859375, 134.11000061035156, 133.0800018310547, 132.4499969482422, 131.07000732421875, 131.8300018310547, 126.69999694824219, 127.97000122070312, 127.12999725341797, 129.47999572753906, 126.80999755859375, 122.7699966430664, 122.25, 124.26000213623047, 125.8499984741211, 125.16999816894531, 124.77999877929688, 122.86000061035156, 125.0999984741211, 125.20999908447266, 125.94000244140625, 126.31999969482422, 126.41999816894531, 125.08000183105469, 124.55000305175781], \"open\": [133.75, 135.72999572753906, 135.75999450683594, 136.3000030517578, 137.35000610351562, 136.02999877929688, 136.6199951171875, 136.47999572753906, 135.89999389648438, 134.35000610351562, 135.49000549316406, 131.25, 129.1999969482422, 130.24000549316406, 128.00999450683594, 123.76000213623047, 124.94000244140625, 124.68000030517578, 122.58999633789062, 123.75, 128.41000366210938, 124.80999755859375, 121.75, 120.9800033569336, 120.93000030517578, 119.02999877929688, 121.69000244140625, 122.54000091552734, 120.4000015258789, 121.41000366210938, 125.69999694824219, 124.05000305175781, 122.87999725341797, 119.9000015258789, 120.33000183105469, 123.33000183105469, 122.81999969482422, 119.54000091552734, 120.3499984741211, 121.6500015258789, 120.11000061035156, 121.6500015258789, 123.66000366210938, 123.87000274658203, 126.5, 125.83000183105469, 128.9499969482422, 129.8000030517578, 132.52000427246094, 132.44000244140625, 134.94000244140625, 133.82000732421875, 134.3000030517578, 133.50999450683594, 135.02000427246094, 132.36000061035156, 133.0399932861328, 132.16000366210938, 134.8300018310547, 135.00999450683594, 134.30999755859375, 136.47000122070312, 131.77999877929688, 132.0399932861328, 131.19000244140625, 129.1999969482422, 127.88999938964844, 130.85000610351562, 129.41000366210938, 123.5, 123.4000015258789, 124.58000183105469, 126.25, 126.81999969482422, 126.55999755859375, 123.16000366210938, 125.2300033569336, 127.81999969482422, 126.01000213623047, 127.81999969482422, 126.95999908447266, 126.44000244140625, 125.56999969482422], \"type\": \"candlestick\", \"x\": [\"2021-02-01T00:00:00\", \"2021-02-02T00:00:00\", \"2021-02-03T00:00:00\", \"2021-02-04T00:00:00\", \"2021-02-05T00:00:00\", \"2021-02-08T00:00:00\", \"2021-02-09T00:00:00\", \"2021-02-10T00:00:00\", \"2021-02-11T00:00:00\", \"2021-02-12T00:00:00\", \"2021-02-16T00:00:00\", \"2021-02-17T00:00:00\", \"2021-02-18T00:00:00\", \"2021-02-19T00:00:00\", \"2021-02-22T00:00:00\", \"2021-02-23T00:00:00\", \"2021-02-24T00:00:00\", \"2021-02-25T00:00:00\", \"2021-02-26T00:00:00\", \"2021-03-01T00:00:00\", \"2021-03-02T00:00:00\", \"2021-03-03T00:00:00\", \"2021-03-04T00:00:00\", \"2021-03-05T00:00:00\", \"2021-03-08T00:00:00\", \"2021-03-09T00:00:00\", \"2021-03-10T00:00:00\", \"2021-03-11T00:00:00\", \"2021-03-12T00:00:00\", \"2021-03-15T00:00:00\", \"2021-03-16T00:00:00\", \"2021-03-17T00:00:00\", \"2021-03-18T00:00:00\", \"2021-03-19T00:00:00\", \"2021-03-22T00:00:00\", \"2021-03-23T00:00:00\", \"2021-03-24T00:00:00\", \"2021-03-25T00:00:00\", \"2021-03-26T00:00:00\", \"2021-03-29T00:00:00\", \"2021-03-30T00:00:00\", \"2021-03-31T00:00:00\", \"2021-04-01T00:00:00\", \"2021-04-05T00:00:00\", \"2021-04-06T00:00:00\", \"2021-04-07T00:00:00\", \"2021-04-08T00:00:00\", \"2021-04-09T00:00:00\", \"2021-04-12T00:00:00\", \"2021-04-13T00:00:00\", \"2021-04-14T00:00:00\", \"2021-04-15T00:00:00\", \"2021-04-16T00:00:00\", \"2021-04-19T00:00:00\", \"2021-04-20T00:00:00\", \"2021-04-21T00:00:00\", \"2021-04-22T00:00:00\", \"2021-04-23T00:00:00\", \"2021-04-26T00:00:00\", \"2021-04-27T00:00:00\", \"2021-04-28T00:00:00\", \"2021-04-29T00:00:00\", \"2021-04-30T00:00:00\", \"2021-05-03T00:00:00\", \"2021-05-04T00:00:00\", \"2021-05-05T00:00:00\", \"2021-05-06T00:00:00\", \"2021-05-07T00:00:00\", \"2021-05-10T00:00:00\", \"2021-05-11T00:00:00\", \"2021-05-12T00:00:00\", \"2021-05-13T00:00:00\", \"2021-05-14T00:00:00\", \"2021-05-17T00:00:00\", \"2021-05-18T00:00:00\", \"2021-05-19T00:00:00\", \"2021-05-20T00:00:00\", \"2021-05-21T00:00:00\", \"2021-05-24T00:00:00\", \"2021-05-25T00:00:00\", \"2021-05-26T00:00:00\", \"2021-05-27T00:00:00\", \"2021-05-28T00:00:00\"]}],                        {\"annotations\": [{\"arrowcolor\": \"blue\", \"font\": {\"color\": \"blue\", \"size\": 15}, \"showarrow\": true, \"text\": \"hammer\", \"x\": \"2021-02-08\", \"y\": 136.91000366210938}, {\"arrowcolor\": \"blue\", \"font\": {\"color\": \"blue\", \"size\": 15}, \"showarrow\": true, \"text\": \"hammer\", \"x\": \"2021-03-12\", \"y\": 121.02999877929688}, {\"arrowcolor\": \"blue\", \"font\": {\"color\": \"blue\", \"size\": 15}, \"showarrow\": true, \"text\": \"hammer\", \"x\": \"2021-05-17 \", \"y\": 126.2699966430664}], \"template\": {\"data\": {\"bar\": [{\"error_x\": {\"color\": \"#2a3f5f\"}, \"error_y\": {\"color\": \"#2a3f5f\"}, \"marker\": {\"line\": {\"color\": \"#E5ECF6\", \"width\": 0.5}}, \"type\": \"bar\"}], \"barpolar\": [{\"marker\": {\"line\": {\"color\": \"#E5ECF6\", \"width\": 0.5}}, \"type\": \"barpolar\"}], \"carpet\": [{\"aaxis\": {\"endlinecolor\": \"#2a3f5f\", \"gridcolor\": \"white\", \"linecolor\": \"white\", \"minorgridcolor\": \"white\", \"startlinecolor\": \"#2a3f5f\"}, \"baxis\": {\"endlinecolor\": \"#2a3f5f\", \"gridcolor\": \"white\", \"linecolor\": \"white\", \"minorgridcolor\": \"white\", \"startlinecolor\": \"#2a3f5f\"}, \"type\": \"carpet\"}], \"choropleth\": [{\"colorbar\": {\"outlinewidth\": 0, \"ticks\": \"\"}, \"type\": \"choropleth\"}], \"contour\": [{\"colorbar\": {\"outlinewidth\": 0, \"ticks\": \"\"}, \"colorscale\": [[0.0, \"#0d0887\"], [0.1111111111111111, \"#46039f\"], [0.2222222222222222, \"#7201a8\"], [0.3333333333333333, \"#9c179e\"], [0.4444444444444444, \"#bd3786\"], [0.5555555555555556, \"#d8576b\"], [0.6666666666666666, \"#ed7953\"], [0.7777777777777778, \"#fb9f3a\"], [0.8888888888888888, \"#fdca26\"], [1.0, \"#f0f921\"]], \"type\": \"contour\"}], \"contourcarpet\": [{\"colorbar\": {\"outlinewidth\": 0, \"ticks\": \"\"}, \"type\": \"contourcarpet\"}], \"heatmap\": [{\"colorbar\": {\"outlinewidth\": 0, \"ticks\": \"\"}, \"colorscale\": [[0.0, \"#0d0887\"], [0.1111111111111111, \"#46039f\"], [0.2222222222222222, \"#7201a8\"], [0.3333333333333333, \"#9c179e\"], [0.4444444444444444, \"#bd3786\"], [0.5555555555555556, \"#d8576b\"], [0.6666666666666666, \"#ed7953\"], [0.7777777777777778, \"#fb9f3a\"], [0.8888888888888888, \"#fdca26\"], [1.0, \"#f0f921\"]], \"type\": \"heatmap\"}], \"heatmapgl\": [{\"colorbar\": {\"outlinewidth\": 0, \"ticks\": \"\"}, \"colorscale\": [[0.0, \"#0d0887\"], [0.1111111111111111, \"#46039f\"], [0.2222222222222222, \"#7201a8\"], [0.3333333333333333, \"#9c179e\"], [0.4444444444444444, \"#bd3786\"], [0.5555555555555556, \"#d8576b\"], [0.6666666666666666, \"#ed7953\"], [0.7777777777777778, \"#fb9f3a\"], [0.8888888888888888, \"#fdca26\"], [1.0, \"#f0f921\"]], \"type\": \"heatmapgl\"}], \"histogram\": [{\"marker\": {\"colorbar\": {\"outlinewidth\": 0, \"ticks\": \"\"}}, \"type\": \"histogram\"}], \"histogram2d\": [{\"colorbar\": {\"outlinewidth\": 0, \"ticks\": \"\"}, \"colorscale\": [[0.0, \"#0d0887\"], [0.1111111111111111, \"#46039f\"], [0.2222222222222222, \"#7201a8\"], [0.3333333333333333, \"#9c179e\"], [0.4444444444444444, \"#bd3786\"], [0.5555555555555556, \"#d8576b\"], [0.6666666666666666, \"#ed7953\"], [0.7777777777777778, \"#fb9f3a\"], [0.8888888888888888, \"#fdca26\"], [1.0, \"#f0f921\"]], \"type\": \"histogram2d\"}], \"histogram2dcontour\": [{\"colorbar\": {\"outlinewidth\": 0, \"ticks\": \"\"}, \"colorscale\": [[0.0, \"#0d0887\"], [0.1111111111111111, \"#46039f\"], [0.2222222222222222, \"#7201a8\"], [0.3333333333333333, \"#9c179e\"], [0.4444444444444444, \"#bd3786\"], [0.5555555555555556, \"#d8576b\"], [0.6666666666666666, \"#ed7953\"], [0.7777777777777778, \"#fb9f3a\"], [0.8888888888888888, \"#fdca26\"], [1.0, \"#f0f921\"]], \"type\": \"histogram2dcontour\"}], \"mesh3d\": [{\"colorbar\": {\"outlinewidth\": 0, \"ticks\": \"\"}, \"type\": \"mesh3d\"}], \"parcoords\": [{\"line\": {\"colorbar\": {\"outlinewidth\": 0, \"ticks\": \"\"}}, \"type\": \"parcoords\"}], \"pie\": [{\"automargin\": true, \"type\": \"pie\"}], \"scatter\": [{\"marker\": {\"colorbar\": {\"outlinewidth\": 0, \"ticks\": \"\"}}, \"type\": \"scatter\"}], \"scatter3d\": [{\"line\": {\"colorbar\": {\"outlinewidth\": 0, \"ticks\": \"\"}}, \"marker\": {\"colorbar\": {\"outlinewidth\": 0, \"ticks\": \"\"}}, \"type\": \"scatter3d\"}], \"scattercarpet\": [{\"marker\": {\"colorbar\": {\"outlinewidth\": 0, \"ticks\": \"\"}}, \"type\": \"scattercarpet\"}], \"scattergeo\": [{\"marker\": {\"colorbar\": {\"outlinewidth\": 0, \"ticks\": \"\"}}, \"type\": \"scattergeo\"}], \"scattergl\": [{\"marker\": {\"colorbar\": {\"outlinewidth\": 0, \"ticks\": \"\"}}, \"type\": \"scattergl\"}], \"scattermapbox\": [{\"marker\": {\"colorbar\": {\"outlinewidth\": 0, \"ticks\": \"\"}}, \"type\": \"scattermapbox\"}], \"scatterpolar\": [{\"marker\": {\"colorbar\": {\"outlinewidth\": 0, \"ticks\": \"\"}}, \"type\": \"scatterpolar\"}], \"scatterpolargl\": [{\"marker\": {\"colorbar\": {\"outlinewidth\": 0, \"ticks\": \"\"}}, \"type\": \"scatterpolargl\"}], \"scatterternary\": [{\"marker\": {\"colorbar\": {\"outlinewidth\": 0, \"ticks\": \"\"}}, \"type\": \"scatterternary\"}], \"surface\": [{\"colorbar\": {\"outlinewidth\": 0, \"ticks\": \"\"}, \"colorscale\": [[0.0, \"#0d0887\"], [0.1111111111111111, \"#46039f\"], [0.2222222222222222, \"#7201a8\"], [0.3333333333333333, \"#9c179e\"], [0.4444444444444444, \"#bd3786\"], [0.5555555555555556, \"#d8576b\"], [0.6666666666666666, \"#ed7953\"], [0.7777777777777778, \"#fb9f3a\"], [0.8888888888888888, \"#fdca26\"], [1.0, \"#f0f921\"]], \"type\": \"surface\"}], \"table\": [{\"cells\": {\"fill\": {\"color\": \"#EBF0F8\"}, \"line\": {\"color\": \"white\"}}, \"header\": {\"fill\": {\"color\": \"#C8D4E3\"}, \"line\": {\"color\": \"white\"}}, \"type\": \"table\"}]}, \"layout\": {\"annotationdefaults\": {\"arrowcolor\": \"#2a3f5f\", \"arrowhead\": 0, \"arrowwidth\": 1}, \"autotypenumbers\": \"strict\", \"coloraxis\": {\"colorbar\": {\"outlinewidth\": 0, \"ticks\": \"\"}}, \"colorscale\": {\"diverging\": [[0, \"#8e0152\"], [0.1, \"#c51b7d\"], [0.2, \"#de77ae\"], [0.3, \"#f1b6da\"], [0.4, \"#fde0ef\"], [0.5, \"#f7f7f7\"], [0.6, \"#e6f5d0\"], [0.7, \"#b8e186\"], [0.8, \"#7fbc41\"], [0.9, \"#4d9221\"], [1, \"#276419\"]], \"sequential\": [[0.0, \"#0d0887\"], [0.1111111111111111, \"#46039f\"], [0.2222222222222222, \"#7201a8\"], [0.3333333333333333, \"#9c179e\"], [0.4444444444444444, \"#bd3786\"], [0.5555555555555556, \"#d8576b\"], [0.6666666666666666, \"#ed7953\"], [0.7777777777777778, \"#fb9f3a\"], [0.8888888888888888, \"#fdca26\"], [1.0, \"#f0f921\"]], \"sequentialminus\": [[0.0, \"#0d0887\"], [0.1111111111111111, \"#46039f\"], [0.2222222222222222, \"#7201a8\"], [0.3333333333333333, \"#9c179e\"], [0.4444444444444444, \"#bd3786\"], [0.5555555555555556, \"#d8576b\"], [0.6666666666666666, \"#ed7953\"], [0.7777777777777778, \"#fb9f3a\"], [0.8888888888888888, \"#fdca26\"], [1.0, \"#f0f921\"]]}, \"colorway\": [\"#636efa\", \"#EF553B\", \"#00cc96\", \"#ab63fa\", \"#FFA15A\", \"#19d3f3\", \"#FF6692\", \"#B6E880\", \"#FF97FF\", \"#FECB52\"], \"font\": {\"color\": \"#2a3f5f\"}, \"geo\": {\"bgcolor\": \"white\", \"lakecolor\": \"white\", \"landcolor\": \"#E5ECF6\", \"showlakes\": true, \"showland\": true, \"subunitcolor\": \"white\"}, \"hoverlabel\": {\"align\": \"left\"}, \"hovermode\": \"closest\", \"mapbox\": {\"style\": \"light\"}, \"paper_bgcolor\": \"white\", \"plot_bgcolor\": \"#E5ECF6\", \"polar\": {\"angularaxis\": {\"gridcolor\": \"white\", \"linecolor\": \"white\", \"ticks\": \"\"}, \"bgcolor\": \"#E5ECF6\", \"radialaxis\": {\"gridcolor\": \"white\", \"linecolor\": \"white\", \"ticks\": \"\"}}, \"scene\": {\"xaxis\": {\"backgroundcolor\": \"#E5ECF6\", \"gridcolor\": \"white\", \"gridwidth\": 2, \"linecolor\": \"white\", \"showbackground\": true, \"ticks\": \"\", \"zerolinecolor\": \"white\"}, \"yaxis\": {\"backgroundcolor\": \"#E5ECF6\", \"gridcolor\": \"white\", \"gridwidth\": 2, \"linecolor\": \"white\", \"showbackground\": true, \"ticks\": \"\", \"zerolinecolor\": \"white\"}, \"zaxis\": {\"backgroundcolor\": \"#E5ECF6\", \"gridcolor\": \"white\", \"gridwidth\": 2, \"linecolor\": \"white\", \"showbackground\": true, \"ticks\": \"\", \"zerolinecolor\": \"white\"}}, \"shapedefaults\": {\"line\": {\"color\": \"#2a3f5f\"}}, \"ternary\": {\"aaxis\": {\"gridcolor\": \"white\", \"linecolor\": \"white\", \"ticks\": \"\"}, \"baxis\": {\"gridcolor\": \"white\", \"linecolor\": \"white\", \"ticks\": \"\"}, \"bgcolor\": \"#E5ECF6\", \"caxis\": {\"gridcolor\": \"white\", \"linecolor\": \"white\", \"ticks\": \"\"}}, \"title\": {\"x\": 0.05}, \"xaxis\": {\"automargin\": true, \"gridcolor\": \"white\", \"linecolor\": \"white\", \"ticks\": \"\", \"title\": {\"standoff\": 15}, \"zerolinecolor\": \"white\", \"zerolinewidth\": 2}, \"yaxis\": {\"automargin\": true, \"gridcolor\": \"white\", \"linecolor\": \"white\", \"ticks\": \"\", \"title\": {\"standoff\": 15}, \"zerolinecolor\": \"white\", \"zerolinewidth\": 2}}}, \"xaxis\": {\"rangeslider\": {\"visible\": false}}},                        {\"responsive\": true}                    ).then(function(){\n",
       "                            \n",
       "var gd = document.getElementById('c6da78df-aebf-49a8-a7ad-52925d9ce2b6');\n",
       "var x = new MutationObserver(function (mutations, observer) {{\n",
       "        var display = window.getComputedStyle(gd).display;\n",
       "        if (!display || display === 'none') {{\n",
       "            console.log([gd, 'removed!']);\n",
       "            Plotly.purge(gd);\n",
       "            observer.disconnect();\n",
       "        }}\n",
       "}});\n",
       "\n",
       "// Listen for the removal of the full notebook cells\n",
       "var notebookContainer = gd.closest('#notebook-container');\n",
       "if (notebookContainer) {{\n",
       "    x.observe(notebookContainer, {childList: true});\n",
       "}}\n",
       "\n",
       "// Listen for the clearing of the current output cell\n",
       "var outputEl = gd.closest('.output');\n",
       "if (outputEl) {{\n",
       "    x.observe(outputEl, {childList: true});\n",
       "}}\n",
       "\n",
       "                        })                };                });            </script>        </div>"
      ]
     },
     "metadata": {},
     "output_type": "display_data"
    }
   ],
   "source": [
    "# use AAPL as an e.g\n",
    "security_price = yf.download('AAPL', start=\"2021-02-01\", end=\"2021-05-30\", interval='1d')\n",
    "security_price = security_price.dropna().reset_index()\n",
    "fig = go.Figure(data=[go.Candlestick(x=security_price['Date'],\n",
    "                open=security_price['Open'],\n",
    "                high=security_price['High'],\n",
    "                low=security_price['Low'],\n",
    "                close=security_price['Close'])])\n",
    "fig.update_layout(\n",
    "    annotations= [{\"x\":'2021-02-08',\"y\":security_price['Close'].iloc[security_price[security_price['Date']=='2021-02-08'].index[0]], \n",
    "                   \"text\": \"hammer\", \"showarrow\":True, \"font\":{\"color\":\"blue\", \"size\":15}, \"arrowcolor\":\"blue\"},\n",
    "                 {\"x\":'2021-03-12',\"y\":security_price['Close'].iloc[security_price[security_price['Date']=='2021-03-12'].index[0]], \n",
    "                   \"text\": \"hammer\", \"showarrow\":True, \"font\":{\"color\":\"blue\", \"size\":15}, \"arrowcolor\":\"blue\"},\n",
    "                 {\"x\":'2021-05-17 ',\"y\":security_price['Close'].iloc[security_price[security_price['Date']=='2021-05-17 '].index[0]], \n",
    "                   \"text\": \"hammer\", \"showarrow\":True, \"font\":{\"color\":\"blue\", \"size\":15}, \"arrowcolor\":\"blue\"}])\n",
    "fig.update_layout(xaxis_rangeslider_visible=False)\n",
    "fig.show()"
   ]
  },
  {
   "cell_type": "code",
   "execution_count": null,
   "metadata": {},
   "outputs": [],
   "source": []
  }
 ],
 "metadata": {
  "kernelspec": {
   "display_name": "Python 3.7 (tensorflow)",
   "language": "python",
   "name": "tensorflow"
  },
  "language_info": {
   "codemirror_mode": {
    "name": "ipython",
    "version": 3
   },
   "file_extension": ".py",
   "mimetype": "text/x-python",
   "name": "python",
   "nbconvert_exporter": "python",
   "pygments_lexer": "ipython3",
   "version": "3.7.7"
  }
 },
 "nbformat": 4,
 "nbformat_minor": 4
}
