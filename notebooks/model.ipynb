{
 "cells": [
  {
   "cell_type": "code",
   "execution_count": null,
   "metadata": {},
   "outputs": [],
   "source": []
  },
  {
   "cell_type": "markdown",
   "metadata": {},
   "source": [
    "Predict stock directional movement \n",
    "- binary - if percentage change with previous time period is 0 or negative, then predict down. Else if percentage change is positive, predict up. "
   ]
  },
  {
   "cell_type": "code",
   "execution_count": null,
   "metadata": {},
   "outputs": [],
   "source": [
    "\n",
    "\n",
    "df['Returns'] = df['ClosingPrice'].pct_change() * 100\n",
    "# Define the threshold to determine the direction\n",
    "threshold = 0\n",
    "\n",
    "# Create a new column 'Direction' to represent the direction classes\n",
    "df['Direction'] = df['Returns'].apply(lambda x: 1 if x > threshold else 0)\n",
    "\n",
    "# Drop NaN or missing values: After calculating the returns, the first row will contain NaN as there is no previous data to calculate the return. You can drop these rows.\n",
    "df.dropna(inplace=True)"
   ]
  }
 ],
 "metadata": {
  "language_info": {
   "name": "python"
  },
  "orig_nbformat": 4
 },
 "nbformat": 4,
 "nbformat_minor": 2
}
