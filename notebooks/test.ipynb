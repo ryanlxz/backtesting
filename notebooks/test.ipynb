{
 "cells": [
  {
   "attachments": {},
   "cell_type": "markdown",
   "metadata": {},
   "source": [
    "## Backtesting trading strategies"
   ]
  },
  {
   "cell_type": "code",
   "execution_count": 1,
   "metadata": {},
   "outputs": [],
   "source": [
    "import pandas as pd \n",
    "import yfinance as yf\n",
    "import sys\n",
    "sys.path.append('../src')\n",
    "from data import scrape_stock_symbols\n",
    "from hydra import initialize, compose"
   ]
  },
  {
   "cell_type": "code",
   "execution_count": 2,
   "metadata": {},
   "outputs": [],
   "source": [
    "%load_ext autoreload\n",
    "%autoreload 2"
   ]
  },
  {
   "cell_type": "code",
   "execution_count": 5,
   "metadata": {},
   "outputs": [
    {
     "data": {
      "text/plain": [
       "Date\n",
       "1987-05-11 00:00:00-04:00    0.000536\n",
       "1987-08-10 00:00:00-04:00    0.000536\n",
       "1987-11-17 00:00:00-05:00    0.000714\n",
       "1988-02-12 00:00:00-05:00    0.000714\n",
       "1988-05-16 00:00:00-04:00    0.000714\n",
       "                               ...   \n",
       "2022-02-04 00:00:00-05:00    0.220000\n",
       "2022-05-06 00:00:00-04:00    0.230000\n",
       "2022-08-05 00:00:00-04:00    0.230000\n",
       "2022-11-04 00:00:00-04:00    0.230000\n",
       "2023-02-10 00:00:00-05:00    0.230000\n",
       "Name: Dividends, Length: 78, dtype: float64"
      ]
     },
     "execution_count": 5,
     "metadata": {},
     "output_type": "execute_result"
    }
   ],
   "source": [
    "aapl = yf.Ticker(\"aapl\")\n",
    "aapl.dividends"
   ]
  },
  {
   "cell_type": "code",
   "execution_count": 12,
   "metadata": {},
   "outputs": [
    {
     "name": "stdout",
     "output_type": "stream",
     "text": [
      "[*********************100%***********************]  1 of 1 completed\n"
     ]
    },
    {
     "data": {
      "text/html": [
       "<div>\n",
       "<style scoped>\n",
       "    .dataframe tbody tr th:only-of-type {\n",
       "        vertical-align: middle;\n",
       "    }\n",
       "\n",
       "    .dataframe tbody tr th {\n",
       "        vertical-align: top;\n",
       "    }\n",
       "\n",
       "    .dataframe thead th {\n",
       "        text-align: right;\n",
       "    }\n",
       "</style>\n",
       "<table border=\"1\" class=\"dataframe\">\n",
       "  <thead>\n",
       "    <tr style=\"text-align: right;\">\n",
       "      <th></th>\n",
       "      <th>Date</th>\n",
       "      <th>Open</th>\n",
       "      <th>High</th>\n",
       "      <th>Low</th>\n",
       "      <th>Close</th>\n",
       "      <th>Adj Close</th>\n",
       "      <th>Volume</th>\n",
       "    </tr>\n",
       "  </thead>\n",
       "  <tbody>\n",
       "    <tr>\n",
       "      <th>0</th>\n",
       "      <td>2017-01-03</td>\n",
       "      <td>37.896000</td>\n",
       "      <td>37.938000</td>\n",
       "      <td>37.384998</td>\n",
       "      <td>37.683498</td>\n",
       "      <td>37.683498</td>\n",
       "      <td>70422000</td>\n",
       "    </tr>\n",
       "    <tr>\n",
       "      <th>1</th>\n",
       "      <td>2017-01-04</td>\n",
       "      <td>37.919498</td>\n",
       "      <td>37.984001</td>\n",
       "      <td>37.709999</td>\n",
       "      <td>37.859001</td>\n",
       "      <td>37.859001</td>\n",
       "      <td>50210000</td>\n",
       "    </tr>\n",
       "    <tr>\n",
       "      <th>2</th>\n",
       "      <td>2017-01-05</td>\n",
       "      <td>38.077499</td>\n",
       "      <td>39.119999</td>\n",
       "      <td>38.013000</td>\n",
       "      <td>39.022499</td>\n",
       "      <td>39.022499</td>\n",
       "      <td>116602000</td>\n",
       "    </tr>\n",
       "    <tr>\n",
       "      <th>3</th>\n",
       "      <td>2017-01-06</td>\n",
       "      <td>39.118000</td>\n",
       "      <td>39.972000</td>\n",
       "      <td>38.924000</td>\n",
       "      <td>39.799500</td>\n",
       "      <td>39.799500</td>\n",
       "      <td>119724000</td>\n",
       "    </tr>\n",
       "    <tr>\n",
       "      <th>4</th>\n",
       "      <td>2017-01-09</td>\n",
       "      <td>39.900002</td>\n",
       "      <td>40.088501</td>\n",
       "      <td>39.588501</td>\n",
       "      <td>39.846001</td>\n",
       "      <td>39.846001</td>\n",
       "      <td>68922000</td>\n",
       "    </tr>\n",
       "    <tr>\n",
       "      <th>...</th>\n",
       "      <td>...</td>\n",
       "      <td>...</td>\n",
       "      <td>...</td>\n",
       "      <td>...</td>\n",
       "      <td>...</td>\n",
       "      <td>...</td>\n",
       "      <td>...</td>\n",
       "    </tr>\n",
       "    <tr>\n",
       "      <th>76</th>\n",
       "      <td>2017-04-24</td>\n",
       "      <td>45.433998</td>\n",
       "      <td>45.499500</td>\n",
       "      <td>45.191002</td>\n",
       "      <td>45.370499</td>\n",
       "      <td>45.370499</td>\n",
       "      <td>62458000</td>\n",
       "    </tr>\n",
       "    <tr>\n",
       "      <th>77</th>\n",
       "      <td>2017-04-25</td>\n",
       "      <td>45.352001</td>\n",
       "      <td>45.473999</td>\n",
       "      <td>45.150002</td>\n",
       "      <td>45.381001</td>\n",
       "      <td>45.381001</td>\n",
       "      <td>67612000</td>\n",
       "    </tr>\n",
       "    <tr>\n",
       "      <th>78</th>\n",
       "      <td>2017-04-26</td>\n",
       "      <td>45.514999</td>\n",
       "      <td>45.787498</td>\n",
       "      <td>45.377998</td>\n",
       "      <td>45.464500</td>\n",
       "      <td>45.464500</td>\n",
       "      <td>52178000</td>\n",
       "    </tr>\n",
       "    <tr>\n",
       "      <th>79</th>\n",
       "      <td>2017-04-27</td>\n",
       "      <td>45.719501</td>\n",
       "      <td>46.092999</td>\n",
       "      <td>45.605499</td>\n",
       "      <td>45.918999</td>\n",
       "      <td>45.918999</td>\n",
       "      <td>106110000</td>\n",
       "    </tr>\n",
       "    <tr>\n",
       "      <th>80</th>\n",
       "      <td>2017-04-28</td>\n",
       "      <td>47.441502</td>\n",
       "      <td>47.479500</td>\n",
       "      <td>46.216499</td>\n",
       "      <td>46.249500</td>\n",
       "      <td>46.249500</td>\n",
       "      <td>147294000</td>\n",
       "    </tr>\n",
       "  </tbody>\n",
       "</table>\n",
       "<p>81 rows × 7 columns</p>\n",
       "</div>"
      ],
      "text/plain": [
       "         Date       Open       High        Low      Close  Adj Close   \n",
       "0  2017-01-03  37.896000  37.938000  37.384998  37.683498  37.683498  \\\n",
       "1  2017-01-04  37.919498  37.984001  37.709999  37.859001  37.859001   \n",
       "2  2017-01-05  38.077499  39.119999  38.013000  39.022499  39.022499   \n",
       "3  2017-01-06  39.118000  39.972000  38.924000  39.799500  39.799500   \n",
       "4  2017-01-09  39.900002  40.088501  39.588501  39.846001  39.846001   \n",
       "..        ...        ...        ...        ...        ...        ...   \n",
       "76 2017-04-24  45.433998  45.499500  45.191002  45.370499  45.370499   \n",
       "77 2017-04-25  45.352001  45.473999  45.150002  45.381001  45.381001   \n",
       "78 2017-04-26  45.514999  45.787498  45.377998  45.464500  45.464500   \n",
       "79 2017-04-27  45.719501  46.092999  45.605499  45.918999  45.918999   \n",
       "80 2017-04-28  47.441502  47.479500  46.216499  46.249500  46.249500   \n",
       "\n",
       "       Volume  \n",
       "0    70422000  \n",
       "1    50210000  \n",
       "2   116602000  \n",
       "3   119724000  \n",
       "4    68922000  \n",
       "..        ...  \n",
       "76   62458000  \n",
       "77   67612000  \n",
       "78   52178000  \n",
       "79  106110000  \n",
       "80  147294000  \n",
       "\n",
       "[81 rows x 7 columns]"
      ]
     },
     "execution_count": 12,
     "metadata": {},
     "output_type": "execute_result"
    }
   ],
   "source": [
    "stock = yf.download('AMZN', start=\"2017-01-01\",\n",
    "                   end=\"2017-04-30\", interval = \"1d\",)\n",
    "stock = stock.dropna().reset_index() \n",
    "stock"
   ]
  },
  {
   "cell_type": "code",
   "execution_count": 20,
   "metadata": {},
   "outputs": [
    {
     "data": {
      "text/plain": [
       "MultiIndex([('bar', 'one'),\n",
       "            ('bar', 'two'),\n",
       "            ('foo', 'one'),\n",
       "            ('foo', 'two')],\n",
       "           names=['first', 'second'])"
      ]
     },
     "execution_count": 20,
     "metadata": {},
     "output_type": "execute_result"
    }
   ],
   "source": [
    "df = pd.DataFrame(\n",
    "    [[\"bar\", \"one\"], [\"bar\", \"two\"], [\"foo\", \"one\"], [\"foo\", \"two\"]],\n",
    "    columns=[\"first\", \"second\"],\n",
    ")\n",
    "pd.MultiIndex.from_frame(df)"
   ]
  },
  {
   "cell_type": "code",
   "execution_count": 18,
   "metadata": {},
   "outputs": [
    {
     "name": "stdout",
     "output_type": "stream",
     "text": [
      "[*********************100%***********************]  1 of 1 completed\n"
     ]
    },
    {
     "ename": "ValueError",
     "evalue": "Length of names must match number of levels in MultiIndex.",
     "output_type": "error",
     "traceback": [
      "\u001b[1;31m---------------------------------------------------------------------------\u001b[0m",
      "\u001b[1;31mValueError\u001b[0m                                Traceback (most recent call last)",
      "Cell \u001b[1;32mIn[18], line 6\u001b[0m\n\u001b[0;32m      3\u001b[0m     stock \u001b[39m=\u001b[39m yf\u001b[39m.\u001b[39mdownload(i, start\u001b[39m=\u001b[39m\u001b[39m\"\u001b[39m\u001b[39m2017-01-01\u001b[39m\u001b[39m\"\u001b[39m,\n\u001b[0;32m      4\u001b[0m                    end\u001b[39m=\u001b[39m\u001b[39m\"\u001b[39m\u001b[39m2017-04-30\u001b[39m\u001b[39m\"\u001b[39m, interval \u001b[39m=\u001b[39m \u001b[39m\"\u001b[39m\u001b[39m1d\u001b[39m\u001b[39m\"\u001b[39m,)\n\u001b[0;32m      5\u001b[0m     stock \u001b[39m=\u001b[39m stock\u001b[39m.\u001b[39mdropna()\u001b[39m.\u001b[39mreset_index() \n\u001b[1;32m----> 6\u001b[0m     stock \u001b[39m=\u001b[39m pd\u001b[39m.\u001b[39;49mMultiIndex\u001b[39m.\u001b[39;49mfrom_frame(stock,names\u001b[39m=\u001b[39;49m[\u001b[39m'\u001b[39;49m\u001b[39mdate\u001b[39;49m\u001b[39m'\u001b[39;49m])\n\u001b[0;32m      7\u001b[0m stock\n",
      "File \u001b[1;32mc:\\Users\\User\\miniforge3\\envs\\backtest\\lib\\site-packages\\pandas\\core\\indexes\\multi.py:721\u001b[0m, in \u001b[0;36mMultiIndex.from_frame\u001b[1;34m(cls, df, sortorder, names)\u001b[0m\n\u001b[0;32m    719\u001b[0m column_names, columns \u001b[39m=\u001b[39m \u001b[39mzip\u001b[39m(\u001b[39m*\u001b[39mdf\u001b[39m.\u001b[39mitems())\n\u001b[0;32m    720\u001b[0m names \u001b[39m=\u001b[39m column_names \u001b[39mif\u001b[39;00m names \u001b[39mis\u001b[39;00m \u001b[39mNone\u001b[39;00m \u001b[39melse\u001b[39;00m names\n\u001b[1;32m--> 721\u001b[0m \u001b[39mreturn\u001b[39;00m \u001b[39mcls\u001b[39;49m\u001b[39m.\u001b[39;49mfrom_arrays(columns, sortorder\u001b[39m=\u001b[39;49msortorder, names\u001b[39m=\u001b[39;49mnames)\n",
      "File \u001b[1;32mc:\\Users\\User\\miniforge3\\envs\\backtest\\lib\\site-packages\\pandas\\core\\indexes\\multi.py:509\u001b[0m, in \u001b[0;36mMultiIndex.from_arrays\u001b[1;34m(cls, arrays, sortorder, names)\u001b[0m\n\u001b[0;32m    506\u001b[0m \u001b[39mif\u001b[39;00m names \u001b[39mis\u001b[39;00m lib\u001b[39m.\u001b[39mno_default:\n\u001b[0;32m    507\u001b[0m     names \u001b[39m=\u001b[39m [\u001b[39mgetattr\u001b[39m(arr, \u001b[39m\"\u001b[39m\u001b[39mname\u001b[39m\u001b[39m\"\u001b[39m, \u001b[39mNone\u001b[39;00m) \u001b[39mfor\u001b[39;00m arr \u001b[39min\u001b[39;00m arrays]\n\u001b[1;32m--> 509\u001b[0m \u001b[39mreturn\u001b[39;00m \u001b[39mcls\u001b[39;49m(\n\u001b[0;32m    510\u001b[0m     levels\u001b[39m=\u001b[39;49mlevels,\n\u001b[0;32m    511\u001b[0m     codes\u001b[39m=\u001b[39;49mcodes,\n\u001b[0;32m    512\u001b[0m     sortorder\u001b[39m=\u001b[39;49msortorder,\n\u001b[0;32m    513\u001b[0m     names\u001b[39m=\u001b[39;49mnames,\n\u001b[0;32m    514\u001b[0m     verify_integrity\u001b[39m=\u001b[39;49m\u001b[39mFalse\u001b[39;49;00m,\n\u001b[0;32m    515\u001b[0m )\n",
      "File \u001b[1;32mc:\\Users\\User\\miniforge3\\envs\\backtest\\lib\\site-packages\\pandas\\core\\indexes\\multi.py:344\u001b[0m, in \u001b[0;36mMultiIndex.__new__\u001b[1;34m(cls, levels, codes, sortorder, names, dtype, copy, name, verify_integrity)\u001b[0m\n\u001b[0;32m    341\u001b[0m result\u001b[39m.\u001b[39m_names \u001b[39m=\u001b[39m [\u001b[39mNone\u001b[39;00m] \u001b[39m*\u001b[39m \u001b[39mlen\u001b[39m(levels)\n\u001b[0;32m    342\u001b[0m \u001b[39mif\u001b[39;00m names \u001b[39mis\u001b[39;00m \u001b[39mnot\u001b[39;00m \u001b[39mNone\u001b[39;00m:\n\u001b[0;32m    343\u001b[0m     \u001b[39m# handles name validation\u001b[39;00m\n\u001b[1;32m--> 344\u001b[0m     result\u001b[39m.\u001b[39;49m_set_names(names)\n\u001b[0;32m    346\u001b[0m \u001b[39mif\u001b[39;00m sortorder \u001b[39mis\u001b[39;00m \u001b[39mnot\u001b[39;00m \u001b[39mNone\u001b[39;00m:\n\u001b[0;32m    347\u001b[0m     result\u001b[39m.\u001b[39msortorder \u001b[39m=\u001b[39m \u001b[39mint\u001b[39m(sortorder)\n",
      "File \u001b[1;32mc:\\Users\\User\\miniforge3\\envs\\backtest\\lib\\site-packages\\pandas\\core\\indexes\\multi.py:1432\u001b[0m, in \u001b[0;36mMultiIndex._set_names\u001b[1;34m(self, names, level, validate)\u001b[0m\n\u001b[0;32m   1430\u001b[0m         \u001b[39mraise\u001b[39;00m \u001b[39mValueError\u001b[39;00m(\u001b[39m\"\u001b[39m\u001b[39mLength of names must match length of level.\u001b[39m\u001b[39m\"\u001b[39m)\n\u001b[0;32m   1431\u001b[0m     \u001b[39mif\u001b[39;00m level \u001b[39mis\u001b[39;00m \u001b[39mNone\u001b[39;00m \u001b[39mand\u001b[39;00m \u001b[39mlen\u001b[39m(names) \u001b[39m!=\u001b[39m \u001b[39mself\u001b[39m\u001b[39m.\u001b[39mnlevels:\n\u001b[1;32m-> 1432\u001b[0m         \u001b[39mraise\u001b[39;00m \u001b[39mValueError\u001b[39;00m(\n\u001b[0;32m   1433\u001b[0m             \u001b[39m\"\u001b[39m\u001b[39mLength of names must match number of levels in MultiIndex.\u001b[39m\u001b[39m\"\u001b[39m\n\u001b[0;32m   1434\u001b[0m         )\n\u001b[0;32m   1436\u001b[0m \u001b[39mif\u001b[39;00m level \u001b[39mis\u001b[39;00m \u001b[39mNone\u001b[39;00m:\n\u001b[0;32m   1437\u001b[0m     level \u001b[39m=\u001b[39m \u001b[39mrange\u001b[39m(\u001b[39mself\u001b[39m\u001b[39m.\u001b[39mnlevels)\n",
      "\u001b[1;31mValueError\u001b[0m: Length of names must match number of levels in MultiIndex."
     ]
    }
   ],
   "source": [
    "data = pd.DataFrame()\n",
    "for i in ['AMZN']:\n",
    "    stock = yf.download(i, start=\"2017-01-01\",\n",
    "                   end=\"2017-04-30\", interval = \"1d\",)\n",
    "    stock = stock.dropna().reset_index() \n",
    "    stock = pd.MultiIndex.from_frame(stock,names=[])\n",
    "stock"
   ]
  },
  {
   "cell_type": "code",
   "execution_count": null,
   "metadata": {},
   "outputs": [],
   "source": []
  }
 ],
 "metadata": {
  "kernelspec": {
   "display_name": "backtest",
   "language": "python",
   "name": "python3"
  },
  "language_info": {
   "codemirror_mode": {
    "name": "ipython",
    "version": 3
   },
   "file_extension": ".py",
   "mimetype": "text/x-python",
   "name": "python",
   "nbconvert_exporter": "python",
   "pygments_lexer": "ipython3",
   "version": "3.9.16"
  },
  "orig_nbformat": 4
 },
 "nbformat": 4,
 "nbformat_minor": 2
}
